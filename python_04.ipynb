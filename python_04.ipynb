{
 "cells": [
  {
   "cell_type": "markdown",
   "id": "087361d1",
   "metadata": {},
   "source": [
    "# 변수와 자료형"
   ]
  },
  {
   "cell_type": "markdown",
   "id": "fa28e4ff",
   "metadata": {},
   "source": [
    "----------------------------------------"
   ]
  },
  {
   "cell_type": "markdown",
   "id": "e4b23091",
   "metadata": {},
   "source": [
    "## 01. 변수"
   ]
  },
  {
   "cell_type": "code",
   "execution_count": 2,
   "id": "79820832",
   "metadata": {},
   "outputs": [],
   "source": [
    "abc = 12340"
   ]
  },
  {
   "cell_type": "code",
   "execution_count": 3,
   "id": "2f174205",
   "metadata": {},
   "outputs": [
    {
     "name": "stdout",
     "output_type": "stream",
     "text": [
      "12340\n"
     ]
    }
   ],
   "source": [
    "print(abc)"
   ]
  },
  {
   "cell_type": "code",
   "execution_count": 4,
   "id": "38705252",
   "metadata": {},
   "outputs": [
    {
     "name": "stdout",
     "output_type": "stream",
     "text": [
      "6170.0\n"
     ]
    }
   ],
   "source": [
    "print(abc*1/2)"
   ]
  },
  {
   "cell_type": "code",
   "execution_count": 5,
   "id": "c507cbab",
   "metadata": {},
   "outputs": [
    {
     "name": "stdout",
     "output_type": "stream",
     "text": [
      "2468.0\n"
     ]
    }
   ],
   "source": [
    "print(abc*1/5)"
   ]
  },
  {
   "cell_type": "markdown",
   "id": "f99ae317",
   "metadata": {},
   "source": [
    "## 변수만들때 규칙\n",
    "### 1) 문자, 숫자, 밑줄 기호(_)를 이용해 만든다.\n",
    "### 2) 숫자로 시작하는 변수명을 만들 수 없다.\n",
    "### 3) 대소문자를 구분한다.\n",
    "### 4) 변수명에 공백을 포함할 수 없다. \n",
    "### 5) 밑줄 이외의 기호 %,#,& 등은 변수에 이용할 수 없다.\n",
    "### 6) 예약어(Reserved word)는 변수명으로 이용할 수 없다."
   ]
  },
  {
   "cell_type": "markdown",
   "id": "0df1a656",
   "metadata": {},
   "source": [
    "--------------------"
   ]
  },
  {
   "cell_type": "markdown",
   "id": "c2ab1dc1",
   "metadata": {},
   "source": [
    "## 02. 문자열"
   ]
  },
  {
   "cell_type": "code",
   "execution_count": 6,
   "id": "d2d328d5",
   "metadata": {},
   "outputs": [
    {
     "name": "stdout",
     "output_type": "stream",
     "text": [
      "String Test\n"
     ]
    }
   ],
   "source": [
    "print(\"String Test\")"
   ]
  },
  {
   "cell_type": "code",
   "execution_count": 7,
   "id": "305d393b",
   "metadata": {},
   "outputs": [
    {
     "name": "stdout",
     "output_type": "stream",
     "text": [
      "String Test\n"
     ]
    }
   ],
   "source": [
    "print('String Test')"
   ]
  },
  {
   "cell_type": "code",
   "execution_count": 8,
   "id": "47c7da48",
   "metadata": {},
   "outputs": [],
   "source": [
    "string1 = \"String Test 1\""
   ]
  },
  {
   "cell_type": "code",
   "execution_count": 9,
   "id": "0704252f",
   "metadata": {
    "scrolled": true
   },
   "outputs": [
    {
     "name": "stdout",
     "output_type": "stream",
     "text": [
      "String Test 1\n"
     ]
    }
   ],
   "source": [
    "print(string1)"
   ]
  },
  {
   "cell_type": "code",
   "execution_count": 10,
   "id": "824839f5",
   "metadata": {},
   "outputs": [
    {
     "data": {
      "text/plain": [
       "str"
      ]
     },
     "execution_count": 10,
     "metadata": {},
     "output_type": "execute_result"
    }
   ],
   "source": [
    "type(string1)"
   ]
  },
  {
   "cell_type": "markdown",
   "id": "02761e78",
   "metadata": {},
   "source": [
    "### data type : str\n",
    "### str(string) : 문자열"
   ]
  },
  {
   "cell_type": "code",
   "execution_count": 11,
   "id": "155bf2c8",
   "metadata": {},
   "outputs": [],
   "source": [
    "string3 = \"This is a 'single' quatation test\""
   ]
  },
  {
   "cell_type": "code",
   "execution_count": 12,
   "id": "ca64c8de",
   "metadata": {},
   "outputs": [
    {
     "name": "stdout",
     "output_type": "stream",
     "text": [
      "This is a 'single' quatation test\n"
     ]
    }
   ],
   "source": [
    "print(string3)"
   ]
  },
  {
   "cell_type": "code",
   "execution_count": 13,
   "id": "bd558ea4",
   "metadata": {},
   "outputs": [
    {
     "data": {
      "text/plain": [
       "str"
      ]
     },
     "execution_count": 13,
     "metadata": {},
     "output_type": "execute_result"
    }
   ],
   "source": [
    "type(string3)"
   ]
  },
  {
   "cell_type": "code",
   "execution_count": 20,
   "id": "3cbda5fb",
   "metadata": {},
   "outputs": [],
   "source": [
    "a = 'Enjoy '"
   ]
  },
  {
   "cell_type": "code",
   "execution_count": 21,
   "id": "a0610974",
   "metadata": {},
   "outputs": [],
   "source": [
    "b = 'python!'"
   ]
  },
  {
   "cell_type": "code",
   "execution_count": 23,
   "id": "f1e5b1d3",
   "metadata": {},
   "outputs": [
    {
     "name": "stdout",
     "output_type": "stream",
     "text": [
      "Enjoy python!\n"
     ]
    }
   ],
   "source": [
    "print(c)"
   ]
  },
  {
   "cell_type": "code",
   "execution_count": 26,
   "id": "6ccd3b05",
   "metadata": {},
   "outputs": [
    {
     "name": "stdout",
     "output_type": "stream",
     "text": [
      "Enjoy Enjoy Enjoy \n"
     ]
    }
   ],
   "source": [
    "print(a * 3)"
   ]
  },
  {
   "cell_type": "code",
   "execution_count": 25,
   "id": "0c61075d",
   "metadata": {},
   "outputs": [
    {
     "name": "stdout",
     "output_type": "stream",
     "text": [
      "Enjoy python!\n"
     ]
    }
   ],
   "source": [
    "print(a + b)"
   ]
  },
  {
   "cell_type": "markdown",
   "id": "6e7e83b8",
   "metadata": {},
   "source": [
    "## 03. 리스트"
   ]
  },
  {
   "cell_type": "code",
   "execution_count": 27,
   "id": "83c21a47",
   "metadata": {},
   "outputs": [],
   "source": [
    "student = []"
   ]
  },
  {
   "cell_type": "code",
   "execution_count": 28,
   "id": "db54d235",
   "metadata": {},
   "outputs": [
    {
     "data": {
      "text/plain": [
       "list"
      ]
     },
     "execution_count": 28,
     "metadata": {},
     "output_type": "execute_result"
    }
   ],
   "source": [
    "type(student)"
   ]
  },
  {
   "cell_type": "code",
   "execution_count": 29,
   "id": "94433868",
   "metadata": {},
   "outputs": [],
   "source": [
    "student1 = [90,95,85,80]"
   ]
  },
  {
   "cell_type": "code",
   "execution_count": 30,
   "id": "a5aa3f3d",
   "metadata": {},
   "outputs": [
    {
     "name": "stdout",
     "output_type": "stream",
     "text": [
      "[90, 95, 85, 80]\n"
     ]
    }
   ],
   "source": [
    "print(student1)"
   ]
  },
  {
   "cell_type": "code",
   "execution_count": 31,
   "id": "a4ad4872",
   "metadata": {},
   "outputs": [
    {
     "data": {
      "text/plain": [
       "90"
      ]
     },
     "execution_count": 31,
     "metadata": {},
     "output_type": "execute_result"
    }
   ],
   "source": [
    "student1[0]"
   ]
  },
  {
   "cell_type": "code",
   "execution_count": 32,
   "id": "e725688c",
   "metadata": {},
   "outputs": [],
   "source": [
    "student1[1] = 100 #리스트 특정 항목 변경 방법 "
   ]
  },
  {
   "cell_type": "code",
   "execution_count": 33,
   "id": "980fd94f",
   "metadata": {
    "scrolled": true
   },
   "outputs": [
    {
     "data": {
      "text/plain": [
       "[90, 100, 85, 80]"
      ]
     },
     "execution_count": 33,
     "metadata": {},
     "output_type": "execute_result"
    }
   ],
   "source": [
    "student1"
   ]
  },
  {
   "cell_type": "code",
   "execution_count": 34,
   "id": "f81d2304",
   "metadata": {},
   "outputs": [
    {
     "data": {
      "text/plain": [
       "80"
      ]
     },
     "execution_count": 34,
     "metadata": {},
     "output_type": "execute_result"
    }
   ],
   "source": [
    "student1[-1] #마지막 항목"
   ]
  },
  {
   "cell_type": "code",
   "execution_count": 72,
   "id": "8117ef99",
   "metadata": {},
   "outputs": [],
   "source": [
    "my_Friends = ['James','Robert','Lisa','Mary']"
   ]
  },
  {
   "cell_type": "code",
   "execution_count": 73,
   "id": "8c922107",
   "metadata": {},
   "outputs": [
    {
     "data": {
      "text/plain": [
       "['James', 'Robert', 'Lisa', 'Mary']"
      ]
     },
     "execution_count": 73,
     "metadata": {},
     "output_type": "execute_result"
    }
   ],
   "source": [
    "my_Friends"
   ]
  },
  {
   "cell_type": "code",
   "execution_count": 37,
   "id": "a1df8516",
   "metadata": {},
   "outputs": [
    {
     "data": {
      "text/plain": [
       "'James'"
      ]
     },
     "execution_count": 37,
     "metadata": {},
     "output_type": "execute_result"
    }
   ],
   "source": [
    "my_Friends[0]"
   ]
  },
  {
   "cell_type": "code",
   "execution_count": 38,
   "id": "7bd6aa4c",
   "metadata": {},
   "outputs": [
    {
     "data": {
      "text/plain": [
       "'Mary'"
      ]
     },
     "execution_count": 38,
     "metadata": {},
     "output_type": "execute_result"
    }
   ],
   "source": [
    "my_Friends[-1]"
   ]
  },
  {
   "cell_type": "code",
   "execution_count": 39,
   "id": "09a1f3f8",
   "metadata": {},
   "outputs": [],
   "source": [
    "mixed_List = [0, 2, 3.14, 'python', 'program', True, my_Friends]"
   ]
  },
  {
   "cell_type": "code",
   "execution_count": 40,
   "id": "ab462ea3",
   "metadata": {},
   "outputs": [
    {
     "data": {
      "text/plain": [
       "[0, 2, 3.14, 'python', 'program', True, ['James', 'Robert', 'Lisa', 'Mary']]"
      ]
     },
     "execution_count": 40,
     "metadata": {},
     "output_type": "execute_result"
    }
   ],
   "source": [
    "mixed_List #리스트 데이터는 다양한 타입의 데이터로 구성 가능"
   ]
  },
  {
   "cell_type": "code",
   "execution_count": 41,
   "id": "a66bc7b4",
   "metadata": {},
   "outputs": [],
   "source": [
    "list_con1 = [1,2,3,4]\n",
    "list_con2 = [5,6,7,8]"
   ]
  },
  {
   "cell_type": "code",
   "execution_count": 42,
   "id": "03b82b5b",
   "metadata": {},
   "outputs": [],
   "source": [
    "list_con = list_con1 + list_con2"
   ]
  },
  {
   "cell_type": "code",
   "execution_count": 43,
   "id": "22bc6bb8",
   "metadata": {},
   "outputs": [
    {
     "name": "stdout",
     "output_type": "stream",
     "text": [
      "[1, 2, 3, 4, 5, 6, 7, 8]\n"
     ]
    }
   ],
   "source": [
    "print(list_con) #리스트 더하기"
   ]
  },
  {
   "cell_type": "code",
   "execution_count": 44,
   "id": "ba83f716",
   "metadata": {},
   "outputs": [
    {
     "name": "stdout",
     "output_type": "stream",
     "text": [
      "[1, 2, 3, 4, 1, 2, 3, 4, 1, 2, 3, 4]\n"
     ]
    }
   ],
   "source": [
    "print(list_con1 * 3) #리스트 곱하기"
   ]
  },
  {
   "cell_type": "code",
   "execution_count": 45,
   "id": "427ecdf8",
   "metadata": {},
   "outputs": [
    {
     "data": {
      "text/plain": [
       "[1, 2, 3, 4, 5, 6, 7, 8]"
      ]
     },
     "execution_count": 45,
     "metadata": {},
     "output_type": "execute_result"
    }
   ],
   "source": [
    "list_con"
   ]
  },
  {
   "cell_type": "code",
   "execution_count": 46,
   "id": "9ee0d7cb",
   "metadata": {},
   "outputs": [
    {
     "name": "stdout",
     "output_type": "stream",
     "text": [
      "[1, 2, 3, 4, 5, 6, 7, 8]\n"
     ]
    }
   ],
   "source": [
    "print(list_con)"
   ]
  },
  {
   "cell_type": "code",
   "execution_count": 47,
   "id": "bc784e18",
   "metadata": {},
   "outputs": [
    {
     "name": "stdout",
     "output_type": "stream",
     "text": [
      "[1, 2, 3, 4, 5, 6, 7]\n"
     ]
    }
   ],
   "source": [
    "print(list_con[0:7:1]) #리스트의 범위를 지정해 원하는 부분 가져오기 "
   ]
  },
  {
   "cell_type": "code",
   "execution_count": 48,
   "id": "938e22cd",
   "metadata": {},
   "outputs": [
    {
     "name": "stdout",
     "output_type": "stream",
     "text": [
      "[1, 3, 5, 7]\n"
     ]
    }
   ],
   "source": [
    "print(list_con[0:7:2])"
   ]
  },
  {
   "cell_type": "code",
   "execution_count": 49,
   "id": "2c34587c",
   "metadata": {
    "scrolled": true
   },
   "outputs": [
    {
     "name": "stdout",
     "output_type": "stream",
     "text": [
      "[1, 3, 5, 7]\n"
     ]
    }
   ],
   "source": [
    "print(list_con[::2])"
   ]
  },
  {
   "cell_type": "code",
   "execution_count": 50,
   "id": "f92f99c8",
   "metadata": {},
   "outputs": [
    {
     "name": "stdout",
     "output_type": "stream",
     "text": [
      "[1, 4, 7]\n"
     ]
    }
   ],
   "source": [
    "print(list_con[::3]) #리스트 중 일부 항목 가져오기 "
   ]
  },
  {
   "cell_type": "code",
   "execution_count": 52,
   "id": "ad57983f",
   "metadata": {},
   "outputs": [
    {
     "name": "stdout",
     "output_type": "stream",
     "text": [
      "[1, 2, 3, 4, 5, 6, 7, 8]\n"
     ]
    }
   ],
   "source": [
    "print(list_con)"
   ]
  },
  {
   "cell_type": "code",
   "execution_count": 53,
   "id": "fd5a46a3",
   "metadata": {},
   "outputs": [],
   "source": [
    "del list_con[0] #리스트에서 인덱스가 i인 항목 삭제 "
   ]
  },
  {
   "cell_type": "code",
   "execution_count": 55,
   "id": "a97cc1f6",
   "metadata": {},
   "outputs": [
    {
     "name": "stdout",
     "output_type": "stream",
     "text": [
      "[2, 3, 4, 5, 6, 7, 8]\n"
     ]
    }
   ],
   "source": [
    "print(list_con)"
   ]
  },
  {
   "cell_type": "code",
   "execution_count": 56,
   "id": "0d918068",
   "metadata": {},
   "outputs": [
    {
     "data": {
      "text/plain": [
       "[2, 3, 4, 5, 6, 7, 8]"
      ]
     },
     "execution_count": 56,
     "metadata": {},
     "output_type": "execute_result"
    }
   ],
   "source": [
    "list_con"
   ]
  },
  {
   "cell_type": "code",
   "execution_count": 57,
   "id": "74e20a48",
   "metadata": {},
   "outputs": [
    {
     "name": "stdout",
     "output_type": "stream",
     "text": [
      "True\n"
     ]
    }
   ],
   "source": [
    "print(3 in list_con) #리스트에서 항목의 존재 여부 확인 "
   ]
  },
  {
   "cell_type": "code",
   "execution_count": 58,
   "id": "1a6605e3",
   "metadata": {},
   "outputs": [
    {
     "name": "stdout",
     "output_type": "stream",
     "text": [
      "True\n"
     ]
    }
   ],
   "source": [
    "print(8 in list_con)"
   ]
  },
  {
   "cell_type": "code",
   "execution_count": 59,
   "id": "9f563dba",
   "metadata": {},
   "outputs": [
    {
     "name": "stdout",
     "output_type": "stream",
     "text": [
      "False\n"
     ]
    }
   ],
   "source": [
    "print(0 in list_con)"
   ]
  },
  {
   "cell_type": "code",
   "execution_count": 60,
   "id": "c9370be6",
   "metadata": {},
   "outputs": [
    {
     "data": {
      "text/plain": [
       "['James', 'Robert', 'Lisa', 'Mary']"
      ]
     },
     "execution_count": 60,
     "metadata": {},
     "output_type": "execute_result"
    }
   ],
   "source": [
    "my_Friends"
   ]
  },
  {
   "cell_type": "code",
   "execution_count": 61,
   "id": "95f6d365",
   "metadata": {},
   "outputs": [],
   "source": [
    "my_Friends.append('Ajin') #리스트에 항목 하나를 맨 마지막에 추가"
   ]
  },
  {
   "cell_type": "code",
   "execution_count": 62,
   "id": "1615be1f",
   "metadata": {},
   "outputs": [
    {
     "data": {
      "text/plain": [
       "['James', 'Robert', 'Lisa', 'Mary', 'Ajin']"
      ]
     },
     "execution_count": 62,
     "metadata": {},
     "output_type": "execute_result"
    }
   ],
   "source": [
    "my_Friends"
   ]
  },
  {
   "cell_type": "code",
   "execution_count": 76,
   "id": "77fe7d50",
   "metadata": {},
   "outputs": [],
   "source": [
    "my_Friends.insert(0,'Jo') #리스트에서 특정 위치에 항목을 삽입 "
   ]
  },
  {
   "cell_type": "code",
   "execution_count": 77,
   "id": "3181658b",
   "metadata": {},
   "outputs": [
    {
     "data": {
      "text/plain": [
       "['Jo', 'James', 'Robert', 'Lisa', 'Mary', 'Betty', 'Lisa']"
      ]
     },
     "execution_count": 77,
     "metadata": {},
     "output_type": "execute_result"
    }
   ],
   "source": [
    "my_Friends"
   ]
  },
  {
   "cell_type": "code",
   "execution_count": 78,
   "id": "50d7ec23",
   "metadata": {},
   "outputs": [],
   "source": [
    "my_Friends.extend(['Betty','Lisa']) #리스트에서 항목 여러 개를 맨 마지막에 추가"
   ]
  },
  {
   "cell_type": "code",
   "execution_count": 79,
   "id": "4ceeddbc",
   "metadata": {},
   "outputs": [
    {
     "data": {
      "text/plain": [
       "['Jo', 'James', 'Robert', 'Lisa', 'Mary', 'Betty', 'Lisa', 'Betty', 'Lisa']"
      ]
     },
     "execution_count": 79,
     "metadata": {},
     "output_type": "execute_result"
    }
   ],
   "source": [
    "my_Friends"
   ]
  },
  {
   "cell_type": "code",
   "execution_count": 81,
   "id": "9e1c79c8",
   "metadata": {},
   "outputs": [],
   "source": [
    "my_Friends.remove('Lisa') #입력값과 첫번째로 일치하는 항목을 리스트에서 삭제 "
   ]
  },
  {
   "cell_type": "code",
   "execution_count": 82,
   "id": "206c4f99",
   "metadata": {},
   "outputs": [
    {
     "data": {
      "text/plain": [
       "['Jo', 'James', 'Robert', 'Mary', 'Betty', 'Lisa', 'Betty', 'Lisa']"
      ]
     },
     "execution_count": 82,
     "metadata": {},
     "output_type": "execute_result"
    }
   ],
   "source": [
    "my_Friends"
   ]
  },
  {
   "cell_type": "code",
   "execution_count": 83,
   "id": "d6c485e8",
   "metadata": {},
   "outputs": [
    {
     "data": {
      "text/plain": [
       "'Lisa'"
      ]
     },
     "execution_count": 83,
     "metadata": {},
     "output_type": "execute_result"
    }
   ],
   "source": [
    "my_Friends.pop() #리스트에서 마지막 항목을 제거한 후에 반환"
   ]
  },
  {
   "cell_type": "code",
   "execution_count": 84,
   "id": "d5e7cfae",
   "metadata": {},
   "outputs": [
    {
     "data": {
      "text/plain": [
       "5"
      ]
     },
     "execution_count": 84,
     "metadata": {},
     "output_type": "execute_result"
    }
   ],
   "source": [
    "my_Friends.index('Lisa') #리스트에서 인자와 일치하는 첫 번째 항목의 위치를 반환"
   ]
  },
  {
   "cell_type": "code",
   "execution_count": 85,
   "id": "0b1c81d8",
   "metadata": {
    "scrolled": true
   },
   "outputs": [
    {
     "data": {
      "text/plain": [
       "1"
      ]
     },
     "execution_count": 85,
     "metadata": {},
     "output_type": "execute_result"
    }
   ],
   "source": [
    "my_Friends.count('Jo') #리스트에서 인자와 일치하는 항목의 개수를 반환"
   ]
  },
  {
   "cell_type": "code",
   "execution_count": 89,
   "id": "cdf3143f",
   "metadata": {},
   "outputs": [],
   "source": [
    "my_Friends_co=[123,42,12,3]"
   ]
  },
  {
   "cell_type": "code",
   "execution_count": 90,
   "id": "9d13e8e2",
   "metadata": {},
   "outputs": [],
   "source": [
    "my_Friends_co.sort() #숫자나 문자열로 구성된 리스트 항목을 순방향으로 정렬"
   ]
  },
  {
   "cell_type": "code",
   "execution_count": 91,
   "id": "3876a3ff",
   "metadata": {},
   "outputs": [
    {
     "data": {
      "text/plain": [
       "[3, 12, 42, 123]"
      ]
     },
     "execution_count": 91,
     "metadata": {},
     "output_type": "execute_result"
    }
   ],
   "source": [
    "my_Friends_co"
   ]
  },
  {
   "cell_type": "code",
   "execution_count": 93,
   "id": "a0900e76",
   "metadata": {},
   "outputs": [],
   "source": [
    "my_Friends_co.reverse() #리스트 항목을 끝에서부터 역순으로 정렬 "
   ]
  },
  {
   "cell_type": "code",
   "execution_count": 94,
   "id": "aac00358",
   "metadata": {},
   "outputs": [
    {
     "data": {
      "text/plain": [
       "[123, 42, 12, 3]"
      ]
     },
     "execution_count": 94,
     "metadata": {},
     "output_type": "execute_result"
    }
   ],
   "source": [
    "my_Friends_co"
   ]
  },
  {
   "cell_type": "markdown",
   "id": "ca73d740",
   "metadata": {},
   "source": [
    "## 04. 튜플"
   ]
  },
  {
   "cell_type": "markdown",
   "id": "1841cdc2",
   "metadata": {},
   "source": [
    "### - 리스트와 유사하지만, 한 번 입력(생성)하면 이후엔 항목 변경 불가능하다는 점이 차이점 "
   ]
  },
  {
   "cell_type": "markdown",
   "id": "6bb63f28",
   "metadata": {},
   "source": [
    "### - 한 번 생성한 후 요소를 변경할 필요가 없거나, 변경할 수 없도록 하고 싶을 때 주로 이용"
   ]
  },
  {
   "cell_type": "code",
   "execution_count": 98,
   "id": "f714792b",
   "metadata": {},
   "outputs": [],
   "source": [
    "tuple1 = (1,2,3,4)"
   ]
  },
  {
   "cell_type": "code",
   "execution_count": 99,
   "id": "0deee6ae",
   "metadata": {},
   "outputs": [
    {
     "ename": "NameError",
     "evalue": "name 'tulpe1' is not defined",
     "output_type": "error",
     "traceback": [
      "\u001b[1;31m---------------------------------------------------------------------------\u001b[0m",
      "\u001b[1;31mNameError\u001b[0m                                 Traceback (most recent call last)",
      "\u001b[1;32m<ipython-input-99-167359049949>\u001b[0m in \u001b[0;36m<module>\u001b[1;34m\u001b[0m\n\u001b[1;32m----> 1\u001b[1;33m \u001b[0mtulpe1\u001b[0m\u001b[1;33m[\u001b[0m\u001b[1;36m1\u001b[0m\u001b[1;33m]\u001b[0m\u001b[1;33m=\u001b[0m\u001b[1;36m5\u001b[0m \u001b[1;31m#변경 및 삭제 불가능\u001b[0m\u001b[1;33m\u001b[0m\u001b[1;33m\u001b[0m\u001b[0m\n\u001b[0m",
      "\u001b[1;31mNameError\u001b[0m: name 'tulpe1' is not defined"
     ]
    }
   ],
   "source": [
    "tulpe1[1]=5 #한번 생성된 튜플 요소는 변경 및 삭제 불가능 "
   ]
  },
  {
   "cell_type": "code",
   "execution_count": 100,
   "id": "9ba7fd13",
   "metadata": {},
   "outputs": [
    {
     "ename": "TypeError",
     "evalue": "'tuple' object doesn't support item deletion",
     "output_type": "error",
     "traceback": [
      "\u001b[1;31m---------------------------------------------------------------------------\u001b[0m",
      "\u001b[1;31mTypeError\u001b[0m                                 Traceback (most recent call last)",
      "\u001b[1;32m<ipython-input-100-4394c65d64e3>\u001b[0m in \u001b[0;36m<module>\u001b[1;34m\u001b[0m\n\u001b[1;32m----> 1\u001b[1;33m \u001b[1;32mdel\u001b[0m \u001b[0mtuple1\u001b[0m\u001b[1;33m[\u001b[0m\u001b[1;36m0\u001b[0m\u001b[1;33m]\u001b[0m\u001b[1;33m\u001b[0m\u001b[1;33m\u001b[0m\u001b[0m\n\u001b[0m",
      "\u001b[1;31mTypeError\u001b[0m: 'tuple' object doesn't support item deletion"
     ]
    }
   ],
   "source": [
    "del tuple1[0] #한번 생성된 튜플 요소는 변경 및 삭제 불가능 "
   ]
  },
  {
   "cell_type": "code",
   "execution_count": 102,
   "id": "69705999",
   "metadata": {},
   "outputs": [
    {
     "data": {
      "text/plain": [
       "2"
      ]
     },
     "execution_count": 102,
     "metadata": {},
     "output_type": "execute_result"
    }
   ],
   "source": [
    "tuple1.index(3)"
   ]
  },
  {
   "cell_type": "code",
   "execution_count": 103,
   "id": "97525eb5",
   "metadata": {},
   "outputs": [],
   "source": [
    "tuple2 = ('a','b','c','d','e')"
   ]
  },
  {
   "cell_type": "code",
   "execution_count": 104,
   "id": "081b5bde",
   "metadata": {},
   "outputs": [
    {
     "data": {
      "text/plain": [
       "3"
      ]
     },
     "execution_count": 104,
     "metadata": {},
     "output_type": "execute_result"
    }
   ],
   "source": [
    "tuple2.index('d') #인자와 일치하는 첫 번째 항목의 위치 "
   ]
  },
  {
   "cell_type": "code",
   "execution_count": 105,
   "id": "baa79878",
   "metadata": {
    "scrolled": true
   },
   "outputs": [
    {
     "data": {
      "text/plain": [
       "1"
      ]
     },
     "execution_count": 105,
     "metadata": {},
     "output_type": "execute_result"
    }
   ],
   "source": [
    "tuple2.count('a') #인자와 일치하는 항목의 개수 반환 "
   ]
  },
  {
   "cell_type": "code",
   "execution_count": 106,
   "id": "4bb157bc",
   "metadata": {
    "scrolled": true
   },
   "outputs": [
    {
     "data": {
      "text/plain": [
       "1"
      ]
     },
     "execution_count": 106,
     "metadata": {},
     "output_type": "execute_result"
    }
   ],
   "source": [
    "tuple1.count(1)"
   ]
  },
  {
   "cell_type": "code",
   "execution_count": 107,
   "id": "efd171a4",
   "metadata": {},
   "outputs": [],
   "source": [
    "tuple3 = ('a','a','a','b',',b','c','c','c','c')"
   ]
  },
  {
   "cell_type": "code",
   "execution_count": 108,
   "id": "c1d5c240",
   "metadata": {},
   "outputs": [
    {
     "data": {
      "text/plain": [
       "4"
      ]
     },
     "execution_count": 108,
     "metadata": {},
     "output_type": "execute_result"
    }
   ],
   "source": [
    "tuple3.count('c')"
   ]
  },
  {
   "cell_type": "code",
   "execution_count": 109,
   "id": "be9c22d3",
   "metadata": {},
   "outputs": [
    {
     "data": {
      "text/plain": [
       "3"
      ]
     },
     "execution_count": 109,
     "metadata": {},
     "output_type": "execute_result"
    }
   ],
   "source": [
    "tuple3.count('a')"
   ]
  },
  {
   "cell_type": "markdown",
   "id": "6ab4285d",
   "metadata": {},
   "source": [
    "## 05. 세트"
   ]
  },
  {
   "cell_type": "markdown",
   "id": "48c35efd",
   "metadata": {},
   "source": [
    "### - 데이터의 순서(X)가 없고 데이터를 중복(X)해서 쓸 수 없다"
   ]
  },
  {
   "cell_type": "code",
   "execution_count": 110,
   "id": "330f77b5",
   "metadata": {},
   "outputs": [],
   "source": [
    "set1 = {1,2,3}"
   ]
  },
  {
   "cell_type": "code",
   "execution_count": 111,
   "id": "7799975b",
   "metadata": {},
   "outputs": [],
   "source": [
    "set2 = {1,2,3,3}"
   ]
  },
  {
   "cell_type": "code",
   "execution_count": 112,
   "id": "6ede0022",
   "metadata": {},
   "outputs": [
    {
     "name": "stdout",
     "output_type": "stream",
     "text": [
      "{1, 2, 3}\n"
     ]
    }
   ],
   "source": [
    "print(set1)"
   ]
  },
  {
   "cell_type": "code",
   "execution_count": 113,
   "id": "e728b153",
   "metadata": {},
   "outputs": [
    {
     "name": "stdout",
     "output_type": "stream",
     "text": [
      "{1, 2, 3}\n"
     ]
    }
   ],
   "source": [
    "print(set2)"
   ]
  },
  {
   "cell_type": "code",
   "execution_count": 114,
   "id": "cf2e8d22",
   "metadata": {},
   "outputs": [
    {
     "data": {
      "text/plain": [
       "set"
      ]
     },
     "execution_count": 114,
     "metadata": {},
     "output_type": "execute_result"
    }
   ],
   "source": [
    "type(set2)"
   ]
  },
  {
   "cell_type": "code",
   "execution_count": 115,
   "id": "a18fe43d",
   "metadata": {},
   "outputs": [
    {
     "data": {
      "text/plain": [
       "set"
      ]
     },
     "execution_count": 115,
     "metadata": {},
     "output_type": "execute_result"
    }
   ],
   "source": [
    "type(set1)"
   ]
  },
  {
   "cell_type": "code",
   "execution_count": 116,
   "id": "8ad7add7",
   "metadata": {},
   "outputs": [],
   "source": [
    "set_A = {1,2,3,4,5}"
   ]
  },
  {
   "cell_type": "code",
   "execution_count": 117,
   "id": "154cbab9",
   "metadata": {},
   "outputs": [],
   "source": [
    "set_B = {4,5,6,7,8,9,10}"
   ]
  },
  {
   "cell_type": "code",
   "execution_count": 119,
   "id": "5ba3ec33",
   "metadata": {
    "scrolled": true
   },
   "outputs": [
    {
     "data": {
      "text/plain": [
       "{4, 5}"
      ]
     },
     "execution_count": 119,
     "metadata": {},
     "output_type": "execute_result"
    }
   ],
   "source": [
    "set_A.intersection(set_B) #교집합"
   ]
  },
  {
   "cell_type": "code",
   "execution_count": 120,
   "id": "6310c6a9",
   "metadata": {},
   "outputs": [
    {
     "data": {
      "text/plain": [
       "{1, 2, 3, 4, 5, 6, 7, 8, 9, 10}"
      ]
     },
     "execution_count": 120,
     "metadata": {},
     "output_type": "execute_result"
    }
   ],
   "source": [
    "set_A.union(set_B) #합집합"
   ]
  },
  {
   "cell_type": "code",
   "execution_count": 121,
   "id": "31f59e22",
   "metadata": {},
   "outputs": [
    {
     "data": {
      "text/plain": [
       "{1, 2, 3}"
      ]
     },
     "execution_count": 121,
     "metadata": {},
     "output_type": "execute_result"
    }
   ],
   "source": [
    "set_A.difference(set_B) #차집합"
   ]
  },
  {
   "cell_type": "code",
   "execution_count": 123,
   "id": "eac8b3ac",
   "metadata": {},
   "outputs": [
    {
     "data": {
      "text/plain": [
       "{4, 5}"
      ]
     },
     "execution_count": 123,
     "metadata": {},
     "output_type": "execute_result"
    }
   ],
   "source": [
    "set_A & set_B #교집합"
   ]
  },
  {
   "cell_type": "code",
   "execution_count": 124,
   "id": "12c18ad3",
   "metadata": {},
   "outputs": [
    {
     "data": {
      "text/plain": [
       "{1, 2, 3, 4, 5, 6, 7, 8, 9, 10}"
      ]
     },
     "execution_count": 124,
     "metadata": {},
     "output_type": "execute_result"
    }
   ],
   "source": [
    "set_A | set_B #합집합"
   ]
  },
  {
   "cell_type": "code",
   "execution_count": 125,
   "id": "39900752",
   "metadata": {
    "scrolled": false
   },
   "outputs": [
    {
     "data": {
      "text/plain": [
       "{1, 2, 3}"
      ]
     },
     "execution_count": 125,
     "metadata": {},
     "output_type": "execute_result"
    }
   ],
   "source": [
    "set_A - set_B #차집합"
   ]
  },
  {
   "cell_type": "markdown",
   "id": "e115f37e",
   "metadata": {},
   "source": [
    "## 리스트, 튜플, 세트 간 타입 변환"
   ]
  },
  {
   "cell_type": "code",
   "execution_count": 127,
   "id": "d3bc00ae",
   "metadata": {},
   "outputs": [],
   "source": [
    "a = [1,2,3,4,5]"
   ]
  },
  {
   "cell_type": "code",
   "execution_count": 128,
   "id": "642ba4b0",
   "metadata": {},
   "outputs": [
    {
     "data": {
      "text/plain": [
       "list"
      ]
     },
     "execution_count": 128,
     "metadata": {},
     "output_type": "execute_result"
    }
   ],
   "source": [
    "type(a)"
   ]
  },
  {
   "cell_type": "code",
   "execution_count": 129,
   "id": "61e308c6",
   "metadata": {},
   "outputs": [
    {
     "data": {
      "text/plain": [
       "(1, 2, 3, 4, 5)"
      ]
     },
     "execution_count": 129,
     "metadata": {},
     "output_type": "execute_result"
    }
   ],
   "source": [
    "tuple(a)"
   ]
  },
  {
   "cell_type": "code",
   "execution_count": 132,
   "id": "a5543eb5",
   "metadata": {},
   "outputs": [
    {
     "data": {
      "text/plain": [
       "tuple"
      ]
     },
     "execution_count": 132,
     "metadata": {},
     "output_type": "execute_result"
    }
   ],
   "source": [
    "b=tuple(a)\n",
    "type(b)"
   ]
  },
  {
   "cell_type": "code",
   "execution_count": 133,
   "id": "0a34fe6b",
   "metadata": {},
   "outputs": [
    {
     "data": {
      "text/plain": [
       "set"
      ]
     },
     "execution_count": 133,
     "metadata": {},
     "output_type": "execute_result"
    }
   ],
   "source": [
    "c=set(a)\n",
    "type(c)"
   ]
  },
  {
   "cell_type": "markdown",
   "id": "a331cbe1",
   "metadata": {},
   "source": [
    "## 06. 딕셔너리"
   ]
  },
  {
   "cell_type": "markdown",
   "id": "6263d8ab",
   "metadata": {},
   "source": [
    "### - 키(key)와 값(value)이 항상 쌍으로 구성됨 "
   ]
  },
  {
   "cell_type": "code",
   "execution_count": 134,
   "id": "26e84d7b",
   "metadata": {},
   "outputs": [],
   "source": [
    "country_capital = {\"영국\":\"런던\", \"프랑스\":\"파리\", \"스위스\":\"베른\", \"호주\":\"멜버른\", \"덴마크\":\"코펜하겐\"}"
   ]
  },
  {
   "cell_type": "code",
   "execution_count": 135,
   "id": "11f1e713",
   "metadata": {},
   "outputs": [
    {
     "data": {
      "text/plain": [
       "{'영국': '런던', '프랑스': '파리', '스위스': '베른', '호주': '멜버른', '덴마크': '코펜하겐'}"
      ]
     },
     "execution_count": 135,
     "metadata": {},
     "output_type": "execute_result"
    }
   ],
   "source": [
    "country_capital"
   ]
  },
  {
   "cell_type": "code",
   "execution_count": 136,
   "id": "9caca43a",
   "metadata": {},
   "outputs": [
    {
     "data": {
      "text/plain": [
       "dict"
      ]
     },
     "execution_count": 136,
     "metadata": {},
     "output_type": "execute_result"
    }
   ],
   "source": [
    "type(country_capital)"
   ]
  },
  {
   "cell_type": "code",
   "execution_count": 137,
   "id": "969d6b38",
   "metadata": {},
   "outputs": [
    {
     "data": {
      "text/plain": [
       "'런던'"
      ]
     },
     "execution_count": 137,
     "metadata": {},
     "output_type": "execute_result"
    }
   ],
   "source": [
    "country_capital[\"영국\"]"
   ]
  },
  {
   "cell_type": "code",
   "execution_count": 138,
   "id": "a547d68b",
   "metadata": {},
   "outputs": [],
   "source": [
    "dict_data1 = {1:\"버스\", 3:\"비행기\", 4:\"택시\", 5:\"자전거\"}"
   ]
  },
  {
   "cell_type": "code",
   "execution_count": 139,
   "id": "5b96dba1",
   "metadata": {},
   "outputs": [
    {
     "data": {
      "text/plain": [
       "{1: '버스', 3: '비행기', 4: '택시', 5: '자전거'}"
      ]
     },
     "execution_count": 139,
     "metadata": {},
     "output_type": "execute_result"
    }
   ],
   "source": [
    "dict_data1"
   ]
  },
  {
   "cell_type": "code",
   "execution_count": 140,
   "id": "b2f69ea7",
   "metadata": {},
   "outputs": [
    {
     "data": {
      "text/plain": [
       "'비행기'"
      ]
     },
     "execution_count": 140,
     "metadata": {},
     "output_type": "execute_result"
    }
   ],
   "source": [
    "dict_data1[3]"
   ]
  },
  {
   "cell_type": "code",
   "execution_count": 141,
   "id": "13c17bb3",
   "metadata": {},
   "outputs": [],
   "source": [
    "dict_data2 = {1:10, 2:20, 3:30, 4:40, 5:50}"
   ]
  },
  {
   "cell_type": "code",
   "execution_count": 142,
   "id": "80943ef0",
   "metadata": {},
   "outputs": [
    {
     "name": "stdout",
     "output_type": "stream",
     "text": [
      "{1: 10, 2: 20, 3: 30, 4: 40, 5: 50}\n"
     ]
    }
   ],
   "source": [
    "print(dict_data2)"
   ]
  },
  {
   "cell_type": "code",
   "execution_count": 143,
   "id": "3d7f7ab0",
   "metadata": {},
   "outputs": [
    {
     "name": "stdout",
     "output_type": "stream",
     "text": [
      "40\n"
     ]
    }
   ],
   "source": [
    "print(dict_data2[4])"
   ]
  },
  {
   "cell_type": "code",
   "execution_count": 144,
   "id": "343a45d7",
   "metadata": {},
   "outputs": [],
   "source": [
    "dict_data3 = {\"list_data1\":[11,12,13], \"list_data2\":[21,22,23]}"
   ]
  },
  {
   "cell_type": "code",
   "execution_count": 146,
   "id": "04750ee8",
   "metadata": {},
   "outputs": [
    {
     "name": "stdout",
     "output_type": "stream",
     "text": [
      "{'list_data1': [11, 12, 13], 'list_data2': [21, 22, 23]}\n"
     ]
    }
   ],
   "source": [
    "print(dict_data3)"
   ]
  },
  {
   "cell_type": "code",
   "execution_count": 147,
   "id": "953d653e",
   "metadata": {},
   "outputs": [
    {
     "data": {
      "text/plain": [
       "dict"
      ]
     },
     "execution_count": 147,
     "metadata": {},
     "output_type": "execute_result"
    }
   ],
   "source": [
    "type(dict_data3)"
   ]
  },
  {
   "cell_type": "code",
   "execution_count": 148,
   "id": "8334c33f",
   "metadata": {},
   "outputs": [
    {
     "data": {
      "text/plain": [
       "[11, 12, 13]"
      ]
     },
     "execution_count": 148,
     "metadata": {},
     "output_type": "execute_result"
    }
   ],
   "source": [
    "dict_data3[\"list_data1\"]"
   ]
  },
  {
   "cell_type": "code",
   "execution_count": 153,
   "id": "a882374e",
   "metadata": {},
   "outputs": [],
   "source": [
    "mixed_dict={1:10, \"dict_num\":{1:10,2:20}, \"dict_list_tuple\":{\"A\":[11,12,13],\"B\":(21,22,23)},\"dict_string\":\"이것은 책입니다.\"}"
   ]
  },
  {
   "cell_type": "code",
   "execution_count": 155,
   "id": "47bd53fe",
   "metadata": {},
   "outputs": [
    {
     "data": {
      "text/plain": [
       "{1: 10,\n",
       " 'dict_num': {1: 10, 2: 20},\n",
       " 'dict_list_tuple': {'A': [11, 12, 13], 'B': (21, 22, 23)},\n",
       " 'dict_string': '이것은 책입니다.'}"
      ]
     },
     "execution_count": 155,
     "metadata": {},
     "output_type": "execute_result"
    }
   ],
   "source": [
    "mixed_dict \n",
    "#키(key)에 사용할 수 있는 데이터 타입 : 숫자, 문자열\n",
    "#값(value)에 사용할 수 있는 데이터 타입 : 숫자, 문자열, 튜플, 리스트, 딕셔너리 등"
   ]
  },
  {
   "cell_type": "code",
   "execution_count": 156,
   "id": "a7e96125",
   "metadata": {},
   "outputs": [
    {
     "data": {
      "text/plain": [
       "{'영국': '런던', '프랑스': '파리', '스위스': '베른', '호주': '멜버른', '덴마크': '코펜하겐'}"
      ]
     },
     "execution_count": 156,
     "metadata": {},
     "output_type": "execute_result"
    }
   ],
   "source": [
    "country_capital"
   ]
  },
  {
   "cell_type": "code",
   "execution_count": 157,
   "id": "8819ae48",
   "metadata": {},
   "outputs": [],
   "source": [
    "country_capital[\"독일\"]=\"베를린\" #딕셔너리에 데이터 추가 "
   ]
  },
  {
   "cell_type": "code",
   "execution_count": 158,
   "id": "69729546",
   "metadata": {},
   "outputs": [
    {
     "data": {
      "text/plain": [
       "{'영국': '런던', '프랑스': '파리', '스위스': '베른', '호주': '멜버른', '덴마크': '코펜하겐', '독일': '베를린'}"
      ]
     },
     "execution_count": 158,
     "metadata": {},
     "output_type": "execute_result"
    }
   ],
   "source": [
    "country_capital"
   ]
  },
  {
   "cell_type": "code",
   "execution_count": 159,
   "id": "bc84136a",
   "metadata": {},
   "outputs": [],
   "source": [
    "country_capital[\"호주\"]=\"캔버라\" #기존 키 지정 후 새로운 값 할당 "
   ]
  },
  {
   "cell_type": "code",
   "execution_count": 160,
   "id": "3c205b2b",
   "metadata": {},
   "outputs": [
    {
     "data": {
      "text/plain": [
       "{'영국': '런던', '프랑스': '파리', '스위스': '베른', '호주': '캔버라', '덴마크': '코펜하겐', '독일': '베를린'}"
      ]
     },
     "execution_count": 160,
     "metadata": {},
     "output_type": "execute_result"
    }
   ],
   "source": [
    "country_capital #기존 키의 값을 다른 값으로 변경 "
   ]
  },
  {
   "cell_type": "code",
   "execution_count": 161,
   "id": "ebb679d5",
   "metadata": {},
   "outputs": [
    {
     "data": {
      "text/plain": [
       "{'영국': '런던', '프랑스': '파리', '스위스': '베른', '호주': '캔버라', '덴마크': '코펜하겐', '독일': '베를린'}"
      ]
     },
     "execution_count": 161,
     "metadata": {},
     "output_type": "execute_result"
    }
   ],
   "source": [
    "country_capital"
   ]
  },
  {
   "cell_type": "code",
   "execution_count": 162,
   "id": "b16323ac",
   "metadata": {},
   "outputs": [],
   "source": [
    "del country_capital[\"덴마크\"] #딕셔너리의 특정 키와 값 삭제 "
   ]
  },
  {
   "cell_type": "code",
   "execution_count": 163,
   "id": "e030557d",
   "metadata": {},
   "outputs": [
    {
     "data": {
      "text/plain": [
       "{'영국': '런던', '프랑스': '파리', '스위스': '베른', '호주': '캔버라', '독일': '베를린'}"
      ]
     },
     "execution_count": 163,
     "metadata": {},
     "output_type": "execute_result"
    }
   ],
   "source": [
    "country_capital"
   ]
  },
  {
   "cell_type": "code",
   "execution_count": 164,
   "id": "1812038c",
   "metadata": {},
   "outputs": [],
   "source": [
    "fruit_code={\"사과\":101,\"배\":102,\"딸기\":103,\"포도\":104,\"바나나\":105}"
   ]
  },
  {
   "cell_type": "code",
   "execution_count": 165,
   "id": "1a6c7d83",
   "metadata": {},
   "outputs": [
    {
     "data": {
      "text/plain": [
       "{'사과': 101, '배': 102, '딸기': 103, '포도': 104, '바나나': 105}"
      ]
     },
     "execution_count": 165,
     "metadata": {},
     "output_type": "execute_result"
    }
   ],
   "source": [
    "fruit_code"
   ]
  },
  {
   "cell_type": "code",
   "execution_count": 169,
   "id": "b93c6210",
   "metadata": {},
   "outputs": [
    {
     "data": {
      "text/plain": [
       "dict_keys(['사과', '배', '딸기', '포도', '바나나'])"
      ]
     },
     "execution_count": 169,
     "metadata": {},
     "output_type": "execute_result"
    }
   ],
   "source": [
    "fruit_code.keys() #딕셔너리의 키 출력 "
   ]
  },
  {
   "cell_type": "code",
   "execution_count": 170,
   "id": "cd41de11",
   "metadata": {},
   "outputs": [
    {
     "data": {
      "text/plain": [
       "dict_values([101, 102, 103, 104, 105])"
      ]
     },
     "execution_count": 170,
     "metadata": {},
     "output_type": "execute_result"
    }
   ],
   "source": [
    "fruit_code.values() #딕셔너리의 값 출력"
   ]
  },
  {
   "cell_type": "code",
   "execution_count": 171,
   "id": "08bc6cba",
   "metadata": {},
   "outputs": [
    {
     "data": {
      "text/plain": [
       "dict_items([('사과', 101), ('배', 102), ('딸기', 103), ('포도', 104), ('바나나', 105)])"
      ]
     },
     "execution_count": 171,
     "metadata": {},
     "output_type": "execute_result"
    }
   ],
   "source": [
    "fruit_code.items() #키와 값의 쌍 출력"
   ]
  },
  {
   "cell_type": "code",
   "execution_count": 172,
   "id": "f19ceab9",
   "metadata": {},
   "outputs": [],
   "source": [
    "fruit_code2 = {\"오렌지\":106, \"수박\":107}"
   ]
  },
  {
   "cell_type": "code",
   "execution_count": 175,
   "id": "e72cf421",
   "metadata": {},
   "outputs": [],
   "source": [
    "fruit_code.update(fruit_code2) #기존의 딕셔너리 데이터에 새로운 딕셔너리 데이터 추가 "
   ]
  },
  {
   "cell_type": "code",
   "execution_count": 176,
   "id": "84d5dd0b",
   "metadata": {
    "scrolled": true
   },
   "outputs": [
    {
     "data": {
      "text/plain": [
       "{'사과': 101, '배': 102, '딸기': 103, '포도': 104, '바나나': 105, '오렌지': 106, '수박': 107}"
      ]
     },
     "execution_count": 176,
     "metadata": {},
     "output_type": "execute_result"
    }
   ],
   "source": [
    "fruit_code"
   ]
  },
  {
   "cell_type": "code",
   "execution_count": 177,
   "id": "829e69dc",
   "metadata": {},
   "outputs": [
    {
     "data": {
      "text/plain": [
       "{'오렌지': 106, '수박': 107}"
      ]
     },
     "execution_count": 177,
     "metadata": {},
     "output_type": "execute_result"
    }
   ],
   "source": [
    "fruit_code2"
   ]
  },
  {
   "cell_type": "code",
   "execution_count": 179,
   "id": "10b033ed",
   "metadata": {},
   "outputs": [],
   "source": [
    "fruit_code2.clear() #딕셔너리의 모든 항목 삭제"
   ]
  },
  {
   "cell_type": "code",
   "execution_count": 181,
   "id": "70f5a3f9",
   "metadata": {
    "scrolled": true
   },
   "outputs": [
    {
     "data": {
      "text/plain": [
       "{}"
      ]
     },
     "execution_count": 181,
     "metadata": {},
     "output_type": "execute_result"
    }
   ],
   "source": [
    "fruit_code2"
   ]
  },
  {
   "cell_type": "markdown",
   "id": "b5ea8095",
   "metadata": {},
   "source": [
    "-----------------"
   ]
  }
 ],
 "metadata": {
  "kernelspec": {
   "display_name": "Python 3",
   "language": "python",
   "name": "python3"
  },
  "language_info": {
   "codemirror_mode": {
    "name": "ipython",
    "version": 3
   },
   "file_extension": ".py",
   "mimetype": "text/x-python",
   "name": "python",
   "nbconvert_exporter": "python",
   "pygments_lexer": "ipython3",
   "version": "3.8.8"
  }
 },
 "nbformat": 4,
 "nbformat_minor": 5
}
