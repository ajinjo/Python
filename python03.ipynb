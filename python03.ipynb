{
 "cells": [
  {
   "cell_type": "markdown",
   "id": "fb5d5c5a",
   "metadata": {},
   "source": [
    "\n",
    "# 파이썬을 계산기처럼 이용하기"
   ]
  },
  {
   "cell_type": "markdown",
   "id": "acb1e10c",
   "metadata": {},
   "source": [
    "--------------------------------"
   ]
  },
  {
   "cell_type": "markdown",
   "id": "752edb04",
   "metadata": {},
   "source": [
    "## 01. 간단한 사칙 연산"
   ]
  },
  {
   "cell_type": "code",
   "execution_count": 1,
   "id": "edd7f61f",
   "metadata": {},
   "outputs": [
    {
     "data": {
      "text/plain": [
       "2"
      ]
     },
     "execution_count": 1,
     "metadata": {},
     "output_type": "execute_result"
    }
   ],
   "source": [
    "1+1"
   ]
  },
  {
   "cell_type": "code",
   "execution_count": 2,
   "id": "1107123c",
   "metadata": {},
   "outputs": [
    {
     "data": {
      "text/plain": [
       "5"
      ]
     },
     "execution_count": 2,
     "metadata": {},
     "output_type": "execute_result"
    }
   ],
   "source": [
    "2+3"
   ]
  },
  {
   "cell_type": "code",
   "execution_count": 3,
   "id": "b9b067d9",
   "metadata": {},
   "outputs": [
    {
     "data": {
      "text/plain": [
       "444"
      ]
     },
     "execution_count": 3,
     "metadata": {},
     "output_type": "execute_result"
    }
   ],
   "source": [
    "123+321"
   ]
  },
  {
   "cell_type": "code",
   "execution_count": 4,
   "id": "791b988f",
   "metadata": {},
   "outputs": [
    {
     "data": {
      "text/plain": [
       "300"
      ]
     },
     "execution_count": 4,
     "metadata": {},
     "output_type": "execute_result"
    }
   ],
   "source": [
    "500-200"
   ]
  },
  {
   "cell_type": "code",
   "execution_count": 5,
   "id": "26ed59a2",
   "metadata": {},
   "outputs": [
    {
     "data": {
      "text/plain": [
       "100"
      ]
     },
     "execution_count": 5,
     "metadata": {},
     "output_type": "execute_result"
    }
   ],
   "source": [
    "20*5"
   ]
  },
  {
   "cell_type": "code",
   "execution_count": 6,
   "id": "aec0b9c7",
   "metadata": {},
   "outputs": [
    {
     "data": {
      "text/plain": [
       "20000"
      ]
     },
     "execution_count": 6,
     "metadata": {},
     "output_type": "execute_result"
    }
   ],
   "source": [
    "1000*20"
   ]
  },
  {
   "cell_type": "code",
   "execution_count": 7,
   "id": "71136e68",
   "metadata": {},
   "outputs": [
    {
     "data": {
      "text/plain": [
       "45312"
      ]
     },
     "execution_count": 7,
     "metadata": {},
     "output_type": "execute_result"
    }
   ],
   "source": [
    "1888*24"
   ]
  },
  {
   "cell_type": "code",
   "execution_count": 8,
   "id": "41feee48",
   "metadata": {},
   "outputs": [
    {
     "data": {
      "text/plain": [
       "5.0"
      ]
     },
     "execution_count": 8,
     "metadata": {},
     "output_type": "execute_result"
    }
   ],
   "source": [
    "10/2"
   ]
  },
  {
   "cell_type": "code",
   "execution_count": 9,
   "id": "dcf6613c",
   "metadata": {},
   "outputs": [
    {
     "data": {
      "text/plain": [
       "4.0"
      ]
     },
     "execution_count": 9,
     "metadata": {},
     "output_type": "execute_result"
    }
   ],
   "source": [
    "100/25"
   ]
  },
  {
   "cell_type": "code",
   "execution_count": 10,
   "id": "9df1c932",
   "metadata": {},
   "outputs": [
    {
     "data": {
      "text/plain": [
       "5.0"
      ]
     },
     "execution_count": 10,
     "metadata": {},
     "output_type": "execute_result"
    }
   ],
   "source": [
    "500/100"
   ]
  },
  {
   "cell_type": "code",
   "execution_count": 11,
   "id": "c7fb5cef",
   "metadata": {},
   "outputs": [
    {
     "data": {
      "text/plain": [
       "100.0"
      ]
     },
     "execution_count": 11,
     "metadata": {},
     "output_type": "execute_result"
    }
   ],
   "source": [
    "500/5"
   ]
  },
  {
   "cell_type": "markdown",
   "id": "2e0a567f",
   "metadata": {},
   "source": [
    "### - 파이썬에서 나눗셈 연산은 실수로 처리함을 알 수 있음 "
   ]
  },
  {
   "cell_type": "markdown",
   "id": "0149184a",
   "metadata": {},
   "source": [
    "### - 컴퓨터 프로그래밍 언어의 정수와 실수 \n",
    "\n",
    "- 정수 : int , 숫자에 소수점 없음\n",
    "- 실수 : float , 숫자에 소수점 있음 "
   ]
  },
  {
   "cell_type": "code",
   "execution_count": 12,
   "id": "87a605ff",
   "metadata": {},
   "outputs": [
    {
     "data": {
      "text/plain": [
       "3.8"
      ]
     },
     "execution_count": 12,
     "metadata": {},
     "output_type": "execute_result"
    }
   ],
   "source": [
    "1.5+2.3"
   ]
  },
  {
   "cell_type": "code",
   "execution_count": 13,
   "id": "3b416381",
   "metadata": {},
   "outputs": [
    {
     "data": {
      "text/plain": [
       "136.0"
      ]
     },
     "execution_count": 13,
     "metadata": {},
     "output_type": "execute_result"
    }
   ],
   "source": [
    "4.0*34.0"
   ]
  },
  {
   "cell_type": "code",
   "execution_count": 14,
   "id": "57f9b09c",
   "metadata": {},
   "outputs": [
    {
     "data": {
      "text/plain": [
       "9.872"
      ]
     },
     "execution_count": 14,
     "metadata": {},
     "output_type": "execute_result"
    }
   ],
   "source": [
    "1.234*8"
   ]
  },
  {
   "cell_type": "code",
   "execution_count": 15,
   "id": "62d5e38c",
   "metadata": {},
   "outputs": [
    {
     "data": {
      "text/plain": [
       "80.10779399999998"
      ]
     },
     "execution_count": 15,
     "metadata": {},
     "output_type": "execute_result"
    }
   ],
   "source": [
    "34.2341*2.34"
   ]
  },
  {
   "cell_type": "code",
   "execution_count": 16,
   "id": "f8f2f90e",
   "metadata": {},
   "outputs": [
    {
     "data": {
      "text/plain": [
       "46.4"
      ]
     },
     "execution_count": 16,
     "metadata": {},
     "output_type": "execute_result"
    }
   ],
   "source": [
    "23.2*2.0"
   ]
  },
  {
   "cell_type": "code",
   "execution_count": 18,
   "id": "39ee655d",
   "metadata": {},
   "outputs": [
    {
     "data": {
      "text/plain": [
       "1.44"
      ]
     },
     "execution_count": 18,
     "metadata": {},
     "output_type": "execute_result"
    }
   ],
   "source": [
    "1.2*1.2"
   ]
  },
  {
   "cell_type": "markdown",
   "id": "b61ecb07",
   "metadata": {},
   "source": [
    "### - type() : 자료의 형식(데이터 타입)을 알려주는 함수 "
   ]
  },
  {
   "cell_type": "markdown",
   "id": "5716d3d4",
   "metadata": {},
   "source": [
    "### * 함수 ? \n",
    "#### 1) 어떠한 기능을 수행하도록 작성된 코드의 묶음 \n",
    "#### 2) 함수명(인자) 형식으로 이용  "
   ]
  },
  {
   "cell_type": "code",
   "execution_count": 19,
   "id": "e5919383",
   "metadata": {},
   "outputs": [
    {
     "data": {
      "text/plain": [
       "float"
      ]
     },
     "execution_count": 19,
     "metadata": {},
     "output_type": "execute_result"
    }
   ],
   "source": [
    "type(234.234)"
   ]
  },
  {
   "cell_type": "code",
   "execution_count": 20,
   "id": "aed394b4",
   "metadata": {},
   "outputs": [
    {
     "data": {
      "text/plain": [
       "int"
      ]
     },
     "execution_count": 20,
     "metadata": {},
     "output_type": "execute_result"
    }
   ],
   "source": [
    "type(12847324)"
   ]
  },
  {
   "cell_type": "code",
   "execution_count": 21,
   "id": "ecbca9cf",
   "metadata": {},
   "outputs": [
    {
     "data": {
      "text/plain": [
       "float"
      ]
     },
     "execution_count": 21,
     "metadata": {},
     "output_type": "execute_result"
    }
   ],
   "source": [
    "type(2/4)"
   ]
  },
  {
   "cell_type": "code",
   "execution_count": 22,
   "id": "e65e11e5",
   "metadata": {},
   "outputs": [
    {
     "data": {
      "text/plain": [
       "float"
      ]
     },
     "execution_count": 22,
     "metadata": {},
     "output_type": "execute_result"
    }
   ],
   "source": [
    "type(1000000/5)"
   ]
  },
  {
   "cell_type": "code",
   "execution_count": 23,
   "id": "a6d93087",
   "metadata": {
    "scrolled": true
   },
   "outputs": [
    {
     "data": {
      "text/plain": [
       "int"
      ]
     },
     "execution_count": 23,
     "metadata": {},
     "output_type": "execute_result"
    }
   ],
   "source": [
    "type(234324*234234)"
   ]
  },
  {
   "cell_type": "markdown",
   "id": "bbbfcb24",
   "metadata": {},
   "source": [
    "-------------------------------------"
   ]
  },
  {
   "cell_type": "markdown",
   "id": "ea9d0372",
   "metadata": {},
   "source": [
    "## 02. 거듭제곱과 나머지 "
   ]
  },
  {
   "cell_type": "markdown",
   "id": "ffc0a373",
   "metadata": {},
   "source": [
    "### 숫자를 n번 곱하는 거듭제곱  \n",
    "### A^n\n",
    "### A : 밑, n : 지수 "
   ]
  },
  {
   "cell_type": "code",
   "execution_count": 24,
   "id": "fcb2f554",
   "metadata": {},
   "outputs": [
    {
     "data": {
      "text/plain": [
       "32"
      ]
     },
     "execution_count": 24,
     "metadata": {},
     "output_type": "execute_result"
    }
   ],
   "source": [
    "2*2*2*2*2"
   ]
  },
  {
   "cell_type": "code",
   "execution_count": 25,
   "id": "13b1720e",
   "metadata": {},
   "outputs": [
    {
     "data": {
      "text/plain": [
       "32"
      ]
     },
     "execution_count": 25,
     "metadata": {},
     "output_type": "execute_result"
    }
   ],
   "source": [
    "2 ** 5 #거듭제곱"
   ]
  },
  {
   "cell_type": "code",
   "execution_count": 26,
   "id": "1613da34",
   "metadata": {},
   "outputs": [
    {
     "data": {
      "text/plain": [
       "2.25"
      ]
     },
     "execution_count": 26,
     "metadata": {},
     "output_type": "execute_result"
    }
   ],
   "source": [
    "1.5 ** 2 "
   ]
  },
  {
   "cell_type": "code",
   "execution_count": 27,
   "id": "f99adcb4",
   "metadata": {},
   "outputs": [
    {
     "data": {
      "text/plain": [
       "2.25"
      ]
     },
     "execution_count": 27,
     "metadata": {},
     "output_type": "execute_result"
    }
   ],
   "source": [
    "1.5 * 1.5"
   ]
  },
  {
   "cell_type": "code",
   "execution_count": 28,
   "id": "2f5d5a9a",
   "metadata": {},
   "outputs": [
    {
     "data": {
      "text/plain": [
       "1.4142135623730951"
      ]
     },
     "execution_count": 28,
     "metadata": {},
     "output_type": "execute_result"
    }
   ],
   "source": [
    "2 ** (1/2) #거듭제곱근"
   ]
  },
  {
   "cell_type": "code",
   "execution_count": 29,
   "id": "551dbfb3",
   "metadata": {},
   "outputs": [
    {
     "data": {
      "text/plain": [
       "1.4142135623730951"
      ]
     },
     "execution_count": 29,
     "metadata": {},
     "output_type": "execute_result"
    }
   ],
   "source": [
    "2 ** (0.5)"
   ]
  },
  {
   "cell_type": "markdown",
   "id": "6fb057b6",
   "metadata": {},
   "source": [
    "### 나눗셈 했을 때 몫과 나머지"
   ]
  },
  {
   "cell_type": "code",
   "execution_count": 30,
   "id": "953a7d0e",
   "metadata": {},
   "outputs": [
    {
     "data": {
      "text/plain": [
       "3"
      ]
     },
     "execution_count": 30,
     "metadata": {},
     "output_type": "execute_result"
    }
   ],
   "source": [
    "13 % 5 #나머지"
   ]
  },
  {
   "cell_type": "code",
   "execution_count": 31,
   "id": "eb33f854",
   "metadata": {},
   "outputs": [
    {
     "data": {
      "text/plain": [
       "2"
      ]
     },
     "execution_count": 31,
     "metadata": {},
     "output_type": "execute_result"
    }
   ],
   "source": [
    "13 // 5 #몫"
   ]
  },
  {
   "cell_type": "code",
   "execution_count": 32,
   "id": "97b03527",
   "metadata": {},
   "outputs": [
    {
     "data": {
      "text/plain": [
       "50"
      ]
     },
     "execution_count": 32,
     "metadata": {},
     "output_type": "execute_result"
    }
   ],
   "source": [
    "100 // 2"
   ]
  },
  {
   "cell_type": "code",
   "execution_count": 33,
   "id": "1a4bd8eb",
   "metadata": {},
   "outputs": [
    {
     "data": {
      "text/plain": [
       "0"
      ]
     },
     "execution_count": 33,
     "metadata": {},
     "output_type": "execute_result"
    }
   ],
   "source": [
    "100 % 2 "
   ]
  },
  {
   "cell_type": "markdown",
   "id": "34612051",
   "metadata": {},
   "source": [
    "## 03. 과학적 표기법"
   ]
  },
  {
   "cell_type": "code",
   "execution_count": 34,
   "id": "6c01166f",
   "metadata": {},
   "outputs": [
    {
     "data": {
      "text/plain": [
       "300000000"
      ]
     },
     "execution_count": 34,
     "metadata": {},
     "output_type": "execute_result"
    }
   ],
   "source": [
    "3 * (10 ** 8)"
   ]
  },
  {
   "cell_type": "code",
   "execution_count": 35,
   "id": "2bde1143",
   "metadata": {},
   "outputs": [
    {
     "data": {
      "text/plain": [
       "300"
      ]
     },
     "execution_count": 35,
     "metadata": {},
     "output_type": "execute_result"
    }
   ],
   "source": [
    "3* (10 ** 2)"
   ]
  },
  {
   "cell_type": "markdown",
   "id": "8d8c2367",
   "metadata": {},
   "source": [
    "### 10의 거듭제곱 : en"
   ]
  },
  {
   "cell_type": "code",
   "execution_count": 36,
   "id": "8d762b00",
   "metadata": {},
   "outputs": [
    {
     "data": {
      "text/plain": [
       "1000"
      ]
     },
     "execution_count": 36,
     "metadata": {},
     "output_type": "execute_result"
    }
   ],
   "source": [
    "10 * 10 * 10"
   ]
  },
  {
   "cell_type": "code",
   "execution_count": 38,
   "id": "34c63caa",
   "metadata": {},
   "outputs": [
    {
     "data": {
      "text/plain": [
       "1000"
      ]
     },
     "execution_count": 38,
     "metadata": {},
     "output_type": "execute_result"
    }
   ],
   "source": [
    "10 ** 3"
   ]
  },
  {
   "cell_type": "code",
   "execution_count": 37,
   "id": "bec62c38",
   "metadata": {},
   "outputs": [
    {
     "data": {
      "text/plain": [
       "1000.0"
      ]
     },
     "execution_count": 37,
     "metadata": {},
     "output_type": "execute_result"
    }
   ],
   "source": [
    "1e3"
   ]
  },
  {
   "cell_type": "code",
   "execution_count": 39,
   "id": "eebf1820",
   "metadata": {},
   "outputs": [
    {
     "ename": "NameError",
     "evalue": "name 'e3' is not defined",
     "output_type": "error",
     "traceback": [
      "\u001b[1;31m---------------------------------------------------------------------------\u001b[0m",
      "\u001b[1;31mNameError\u001b[0m                                 Traceback (most recent call last)",
      "\u001b[1;32m<ipython-input-39-d8901b2c3c32>\u001b[0m in \u001b[0;36m<module>\u001b[1;34m\u001b[0m\n\u001b[1;32m----> 1\u001b[1;33m \u001b[0me3\u001b[0m\u001b[1;33m\u001b[0m\u001b[1;33m\u001b[0m\u001b[0m\n\u001b[0m",
      "\u001b[1;31mNameError\u001b[0m: name 'e3' is not defined"
     ]
    }
   ],
   "source": [
    "e3"
   ]
  },
  {
   "cell_type": "code",
   "execution_count": 40,
   "id": "68fb3d7c",
   "metadata": {},
   "outputs": [
    {
     "data": {
      "text/plain": [
       "300000000.0"
      ]
     },
     "execution_count": 40,
     "metadata": {},
     "output_type": "execute_result"
    }
   ],
   "source": [
    "3e8"
   ]
  },
  {
   "cell_type": "code",
   "execution_count": 41,
   "id": "0d08e3a0",
   "metadata": {},
   "outputs": [
    {
     "data": {
      "text/plain": [
       "100000000.0"
      ]
     },
     "execution_count": 41,
     "metadata": {},
     "output_type": "execute_result"
    }
   ],
   "source": [
    "1e8"
   ]
  },
  {
   "cell_type": "code",
   "execution_count": 42,
   "id": "c3144704",
   "metadata": {},
   "outputs": [
    {
     "data": {
      "text/plain": [
       "300000000.0"
      ]
     },
     "execution_count": 42,
     "metadata": {},
     "output_type": "execute_result"
    }
   ],
   "source": [
    "3 * 1e8"
   ]
  },
  {
   "cell_type": "code",
   "execution_count": 43,
   "id": "19d62d5d",
   "metadata": {},
   "outputs": [
    {
     "data": {
      "text/plain": [
       "0.0001"
      ]
     },
     "execution_count": 43,
     "metadata": {},
     "output_type": "execute_result"
    }
   ],
   "source": [
    "1e-4"
   ]
  },
  {
   "cell_type": "code",
   "execution_count": 44,
   "id": "d8d2abb0",
   "metadata": {},
   "outputs": [
    {
     "data": {
      "text/plain": [
       "0.01"
      ]
     },
     "execution_count": 44,
     "metadata": {},
     "output_type": "execute_result"
    }
   ],
   "source": [
    "1e-2"
   ]
  },
  {
   "cell_type": "code",
   "execution_count": 46,
   "id": "4c2b406c",
   "metadata": {},
   "outputs": [
    {
     "data": {
      "text/plain": [
       "1e-05"
      ]
     },
     "execution_count": 46,
     "metadata": {},
     "output_type": "execute_result"
    }
   ],
   "source": [
    "1e-5"
   ]
  },
  {
   "cell_type": "markdown",
   "id": "e53605e5",
   "metadata": {},
   "source": [
    "## 04. 진수 표현과 변환"
   ]
  },
  {
   "cell_type": "markdown",
   "id": "ce037158",
   "metadata": {},
   "source": [
    "### 인간 : 10진법 사용\n",
    "### 10진법? 0~9라는 10가지의 숫자를 이용해서 수를 나타내는 진법\n",
    "---------------------\n",
    "### 컴퓨터 : 2진법 주로 사용\n",
    "### 2진법?  0과 1이라는 두 개의 숫자만을 사용하여 수를 나타내는 진법\n",
    "-------------------------\n",
    "#### * 진법에 따라 같은 수가 다르게 표현될 수 있음 "
   ]
  },
  {
   "cell_type": "markdown",
   "id": "97d9638a",
   "metadata": {},
   "source": [
    "#### python은 10진법 외 2진법, 8진법, 16진법으로 숫자 입출력, 변환하는 방법 제공함 "
   ]
  },
  {
   "cell_type": "code",
   "execution_count": 47,
   "id": "c584483e",
   "metadata": {},
   "outputs": [
    {
     "data": {
      "text/plain": [
       "17"
      ]
     },
     "execution_count": 47,
     "metadata": {},
     "output_type": "execute_result"
    }
   ],
   "source": [
    "17"
   ]
  },
  {
   "cell_type": "code",
   "execution_count": 50,
   "id": "894a0b5d",
   "metadata": {},
   "outputs": [
    {
     "data": {
      "text/plain": [
       "17"
      ]
     },
     "execution_count": 50,
     "metadata": {},
     "output_type": "execute_result"
    }
   ],
   "source": [
    "0b10001"
   ]
  },
  {
   "cell_type": "code",
   "execution_count": 54,
   "id": "66971713",
   "metadata": {},
   "outputs": [
    {
     "data": {
      "text/plain": [
       "17"
      ]
     },
     "execution_count": 54,
     "metadata": {},
     "output_type": "execute_result"
    }
   ],
   "source": [
    "0o21"
   ]
  },
  {
   "cell_type": "code",
   "execution_count": 55,
   "id": "ade9a0e4",
   "metadata": {},
   "outputs": [
    {
     "data": {
      "text/plain": [
       "17"
      ]
     },
     "execution_count": 55,
     "metadata": {},
     "output_type": "execute_result"
    }
   ],
   "source": [
    "0x11"
   ]
  },
  {
   "cell_type": "code",
   "execution_count": 56,
   "id": "06893735",
   "metadata": {},
   "outputs": [
    {
     "data": {
      "text/plain": [
       "'0b10001'"
      ]
     },
     "execution_count": 56,
     "metadata": {},
     "output_type": "execute_result"
    }
   ],
   "source": [
    "bin(17) #2진법"
   ]
  },
  {
   "cell_type": "code",
   "execution_count": 57,
   "id": "7ba607b3",
   "metadata": {},
   "outputs": [
    {
     "data": {
      "text/plain": [
       "'0o21'"
      ]
     },
     "execution_count": 57,
     "metadata": {},
     "output_type": "execute_result"
    }
   ],
   "source": [
    "oct(17) #8진법"
   ]
  },
  {
   "cell_type": "code",
   "execution_count": 58,
   "id": "1f691a48",
   "metadata": {},
   "outputs": [
    {
     "data": {
      "text/plain": [
       "'0x11'"
      ]
     },
     "execution_count": 58,
     "metadata": {},
     "output_type": "execute_result"
    }
   ],
   "source": [
    "hex(17) #10진법"
   ]
  },
  {
   "cell_type": "markdown",
   "id": "287cf5e3",
   "metadata": {},
   "source": [
    "### bin(), oct(), hex() 함수 이용 출력 결과는\n",
    "### '문자열'으로 산술 연산에 이용할 수 없음"
   ]
  },
  {
   "cell_type": "code",
   "execution_count": 51,
   "id": "69d4eb78",
   "metadata": {},
   "outputs": [
    {
     "data": {
      "text/plain": [
       "1"
      ]
     },
     "execution_count": 51,
     "metadata": {},
     "output_type": "execute_result"
    }
   ],
   "source": [
    "0b01"
   ]
  },
  {
   "cell_type": "code",
   "execution_count": 52,
   "id": "b87a0389",
   "metadata": {},
   "outputs": [
    {
     "data": {
      "text/plain": [
       "3"
      ]
     },
     "execution_count": 52,
     "metadata": {},
     "output_type": "execute_result"
    }
   ],
   "source": [
    "0b11"
   ]
  },
  {
   "cell_type": "code",
   "execution_count": 53,
   "id": "7f8741eb",
   "metadata": {},
   "outputs": [
    {
     "data": {
      "text/plain": [
       "7"
      ]
     },
     "execution_count": 53,
     "metadata": {},
     "output_type": "execute_result"
    }
   ],
   "source": [
    "0b111"
   ]
  },
  {
   "cell_type": "markdown",
   "id": "f8b4d3a6",
   "metadata": {},
   "source": [
    "## 05. 논리 연산 및 비교 연산 "
   ]
  },
  {
   "cell_type": "markdown",
   "id": "c7813483",
   "metadata": {},
   "source": [
    "### 논리 연산(logical operation)\n",
    "#### - 어떤 조건을 만족O : 참(True)\n",
    "#### - 어떤 조건을 만족X : 거짓(False)"
   ]
  },
  {
   "cell_type": "markdown",
   "id": "acb5532b",
   "metadata": {},
   "source": [
    "### 불린 연산(Boolean operation) = 논리 연산\n",
    "#### - 데이터 타입 : 불(bool)\n",
    "#### - 불(bool) 데이터는 논리 연산만 가능"
   ]
  },
  {
   "cell_type": "code",
   "execution_count": 62,
   "id": "75aca412",
   "metadata": {},
   "outputs": [
    {
     "name": "stdout",
     "output_type": "stream",
     "text": [
      "True\n"
     ]
    }
   ],
   "source": [
    "print(True) #논리 연산의 결과를 출력한 것"
   ]
  },
  {
   "cell_type": "code",
   "execution_count": 60,
   "id": "44ae502b",
   "metadata": {},
   "outputs": [
    {
     "name": "stdout",
     "output_type": "stream",
     "text": [
      "False\n"
     ]
    }
   ],
   "source": [
    "print(False)"
   ]
  },
  {
   "cell_type": "code",
   "execution_count": 63,
   "id": "758edd64",
   "metadata": {},
   "outputs": [
    {
     "name": "stdout",
     "output_type": "stream",
     "text": [
      "True\n"
     ]
    }
   ],
   "source": [
    "print('True') #'True'라는 문자열을 출력한 것 "
   ]
  },
  {
   "cell_type": "code",
   "execution_count": 64,
   "id": "7987f771",
   "metadata": {},
   "outputs": [
    {
     "data": {
      "text/plain": [
       "bool"
      ]
     },
     "execution_count": 64,
     "metadata": {},
     "output_type": "execute_result"
    }
   ],
   "source": [
    "type(True)"
   ]
  },
  {
   "cell_type": "code",
   "execution_count": 65,
   "id": "668da7d8",
   "metadata": {},
   "outputs": [
    {
     "data": {
      "text/plain": [
       "str"
      ]
     },
     "execution_count": 65,
     "metadata": {},
     "output_type": "execute_result"
    }
   ],
   "source": [
    "type('True')"
   ]
  },
  {
   "cell_type": "markdown",
   "id": "5e8f1df9",
   "metadata": {},
   "source": [
    "### 논리 연산\n",
    "### - 논리곱(and), 논리합(or), 논리 부정(not)"
   ]
  },
  {
   "cell_type": "code",
   "execution_count": 66,
   "id": "1c2f5e9a",
   "metadata": {},
   "outputs": [
    {
     "name": "stdout",
     "output_type": "stream",
     "text": [
      "False\n"
     ]
    }
   ],
   "source": [
    "print(True and False)"
   ]
  },
  {
   "cell_type": "code",
   "execution_count": 67,
   "id": "99bf4adf",
   "metadata": {},
   "outputs": [
    {
     "name": "stdout",
     "output_type": "stream",
     "text": [
      "False\n"
     ]
    }
   ],
   "source": [
    "print(False and False)"
   ]
  },
  {
   "cell_type": "code",
   "execution_count": 68,
   "id": "e84bb991",
   "metadata": {
    "scrolled": true
   },
   "outputs": [
    {
     "name": "stdout",
     "output_type": "stream",
     "text": [
      "True\n"
     ]
    }
   ],
   "source": [
    "print(True or False)"
   ]
  },
  {
   "cell_type": "code",
   "execution_count": 69,
   "id": "b9ed70f6",
   "metadata": {},
   "outputs": [
    {
     "name": "stdout",
     "output_type": "stream",
     "text": [
      "False\n"
     ]
    }
   ],
   "source": [
    "print(not True)"
   ]
  },
  {
   "cell_type": "code",
   "execution_count": 70,
   "id": "20c64c51",
   "metadata": {},
   "outputs": [
    {
     "name": "stdout",
     "output_type": "stream",
     "text": [
      "True\n"
     ]
    }
   ],
   "source": [
    "print(not False)"
   ]
  },
  {
   "cell_type": "markdown",
   "id": "aa93c225",
   "metadata": {},
   "source": [
    "### 비교 연산"
   ]
  },
  {
   "cell_type": "markdown",
   "id": "c42575b7",
   "metadata": {},
   "source": [
    "|비교연산자|활용 예|설명|\n",
    "|:------|:---|:---|\n",
    "|==|a==b|a는 b와 같다|\n",
    "|!=|a!=b|a는 b와 같지 않다|\n",
    "|<|a<b|a는 b보다 작다|\n",
    "|>|a>b|a는 b보다 크다|\n",
    "|<=|a<=b|a는 b보다 작거나 같다|\n",
    "|>=|a>=b|a는 b보다 크거나 같다|"
   ]
  },
  {
   "cell_type": "code",
   "execution_count": 71,
   "id": "85c6120b",
   "metadata": {},
   "outputs": [
    {
     "name": "stdout",
     "output_type": "stream",
     "text": [
      "False\n"
     ]
    }
   ],
   "source": [
    "print(5==3)"
   ]
  },
  {
   "cell_type": "code",
   "execution_count": 72,
   "id": "a0e95370",
   "metadata": {},
   "outputs": [
    {
     "name": "stdout",
     "output_type": "stream",
     "text": [
      "True\n"
     ]
    }
   ],
   "source": [
    "print(5==5)"
   ]
  },
  {
   "cell_type": "code",
   "execution_count": 73,
   "id": "8ac215ae",
   "metadata": {
    "scrolled": true
   },
   "outputs": [
    {
     "name": "stdout",
     "output_type": "stream",
     "text": [
      "True\n"
     ]
    }
   ],
   "source": [
    "print(5!=3)"
   ]
  },
  {
   "cell_type": "code",
   "execution_count": 74,
   "id": "000d78a6",
   "metadata": {},
   "outputs": [
    {
     "name": "stdout",
     "output_type": "stream",
     "text": [
      "False\n"
     ]
    }
   ],
   "source": [
    "print(5!=5)"
   ]
  },
  {
   "cell_type": "code",
   "execution_count": 75,
   "id": "ec6af2ea",
   "metadata": {},
   "outputs": [
    {
     "name": "stdout",
     "output_type": "stream",
     "text": [
      "True\n"
     ]
    }
   ],
   "source": [
    "print(5>3)"
   ]
  },
  {
   "cell_type": "code",
   "execution_count": 76,
   "id": "6c6f54dc",
   "metadata": {},
   "outputs": [
    {
     "name": "stdout",
     "output_type": "stream",
     "text": [
      "False\n"
     ]
    }
   ],
   "source": [
    "print(5<3)"
   ]
  },
  {
   "cell_type": "code",
   "execution_count": 77,
   "id": "9b193120",
   "metadata": {},
   "outputs": [
    {
     "name": "stdout",
     "output_type": "stream",
     "text": [
      "False\n"
     ]
    }
   ],
   "source": [
    "print(5<=3)"
   ]
  },
  {
   "cell_type": "code",
   "execution_count": 78,
   "id": "112562f2",
   "metadata": {},
   "outputs": [
    {
     "name": "stdout",
     "output_type": "stream",
     "text": [
      "True\n"
     ]
    }
   ],
   "source": [
    "print(5>=3)"
   ]
  },
  {
   "cell_type": "markdown",
   "id": "bb9bc910",
   "metadata": {},
   "source": [
    "#### * 비교 연산의 결과는 불(bool) 데이터 형식으로 나옴 "
   ]
  },
  {
   "cell_type": "markdown",
   "id": "fa0c6e6d",
   "metadata": {},
   "source": [
    "### 비교 연산 & 논리 연산 혼합 연산 "
   ]
  },
  {
   "cell_type": "code",
   "execution_count": 79,
   "id": "46cb83e1",
   "metadata": {},
   "outputs": [
    {
     "name": "stdout",
     "output_type": "stream",
     "text": [
      "True\n"
     ]
    }
   ],
   "source": [
    "print(1>0 and -2<0)"
   ]
  },
  {
   "cell_type": "code",
   "execution_count": 80,
   "id": "1034031f",
   "metadata": {},
   "outputs": [
    {
     "name": "stdout",
     "output_type": "stream",
     "text": [
      "False\n"
     ]
    }
   ],
   "source": [
    "print((3<0) and (-5>0) and (1>5))"
   ]
  },
  {
   "cell_type": "code",
   "execution_count": 82,
   "id": "49922a07",
   "metadata": {},
   "outputs": [
    {
     "name": "stdout",
     "output_type": "stream",
     "text": [
      "True\n"
     ]
    }
   ],
   "source": [
    "print((3>0) or ((-5>0) and (1>5)) )"
   ]
  },
  {
   "cell_type": "markdown",
   "id": "96b1f8ca",
   "metadata": {},
   "source": [
    "#### * 비교 연산 & 논리 연산 혼합 연산은 조건문에서 조건을 판단할 때 많이 이용함 "
   ]
  }
 ],
 "metadata": {
  "kernelspec": {
   "display_name": "Python 3",
   "language": "python",
   "name": "python3"
  },
  "language_info": {
   "codemirror_mode": {
    "name": "ipython",
    "version": 3
   },
   "file_extension": ".py",
   "mimetype": "text/x-python",
   "name": "python",
   "nbconvert_exporter": "python",
   "pygments_lexer": "ipython3",
   "version": "3.8.8"
  }
 },
 "nbformat": 4,
 "nbformat_minor": 5
}
