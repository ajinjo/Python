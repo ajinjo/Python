{
 "cells": [
  {
   "cell_type": "markdown",
   "id": "ff3f0194",
   "metadata": {},
   "source": [
    "# 입력과 출력"
   ]
  },
  {
   "cell_type": "markdown",
   "id": "80dcb296",
   "metadata": {},
   "source": [
    "## 01. 화면 출력"
   ]
  },
  {
   "cell_type": "code",
   "execution_count": 1,
   "id": "136df1ed",
   "metadata": {},
   "outputs": [
    {
     "name": "stdout",
     "output_type": "stream",
     "text": [
      "Hello python!\n"
     ]
    }
   ],
   "source": [
    "print(\"Hello python!\")"
   ]
  },
  {
   "cell_type": "code",
   "execution_count": 2,
   "id": "86e61a20",
   "metadata": {},
   "outputs": [
    {
     "name": "stdout",
     "output_type": "stream",
     "text": [
      "Best Python book\n"
     ]
    }
   ],
   "source": [
    "print(\"Best\",\"Python\",\"book\")"
   ]
  },
  {
   "cell_type": "code",
   "execution_count": 3,
   "id": "0ec407f1",
   "metadata": {},
   "outputs": [
    {
     "name": "stdout",
     "output_type": "stream",
     "text": [
      "Best-:*:-Python-:*:-book\n"
     ]
    }
   ],
   "source": [
    "print(\"Best\",\"Python\",\"book\",sep=\"-:*:-\")"
   ]
  },
  {
   "cell_type": "code",
   "execution_count": 4,
   "id": "ce5b27a3",
   "metadata": {},
   "outputs": [
    {
     "name": "stdout",
     "output_type": "stream",
     "text": [
      "abcdefg\n"
     ]
    }
   ],
   "source": [
    "print(\"abcd\"+\"efg\")"
   ]
  },
  {
   "cell_type": "code",
   "execution_count": 5,
   "id": "9650b56e",
   "metadata": {},
   "outputs": [
    {
     "name": "stdout",
     "output_type": "stream",
     "text": [
      "Best python book: This book\n"
     ]
    }
   ],
   "source": [
    "print(\"Best\",\"python\",\"book\"+\":\",\"This book\")"
   ]
  },
  {
   "cell_type": "code",
   "execution_count": 6,
   "id": "180c0603",
   "metadata": {},
   "outputs": [
    {
     "name": "stdout",
     "output_type": "stream",
     "text": [
      "10\n"
     ]
    }
   ],
   "source": [
    "x = 10\n",
    "print(x)"
   ]
  },
  {
   "cell_type": "code",
   "execution_count": 7,
   "id": "1aaa6479",
   "metadata": {},
   "outputs": [
    {
     "name": "stdout",
     "output_type": "stream",
     "text": [
      "Name: James, ID number: 789\n"
     ]
    }
   ],
   "source": [
    "name = \"James\"\n",
    "ID_num = 789\n",
    "print(\"Name:\",name+\",\",\"ID number:\",ID_num)"
   ]
  },
  {
   "cell_type": "code",
   "execution_count": 8,
   "id": "5c8cf217",
   "metadata": {},
   "outputs": [
    {
     "name": "stdout",
     "output_type": "stream",
     "text": [
      "James is my friend. \n",
      "\n",
      "He is korean.\n"
     ]
    }
   ],
   "source": [
    "print(\"James is my friend. \\n\\nHe is korean.\")"
   ]
  },
  {
   "cell_type": "code",
   "execution_count": 9,
   "id": "05c5bf7c",
   "metadata": {},
   "outputs": [
    {
     "name": "stdout",
     "output_type": "stream",
     "text": [
      "Welcome to \n",
      "python!\n"
     ]
    }
   ],
   "source": [
    "print(\"Welcome to \")\n",
    "print(\"python!\")"
   ]
  },
  {
   "cell_type": "code",
   "execution_count": 10,
   "id": "9c4887f9",
   "metadata": {},
   "outputs": [
    {
     "name": "stdout",
     "output_type": "stream",
     "text": [
      "Welcome to python!\n"
     ]
    }
   ],
   "source": [
    "print(\"Welcome to \", end=\"\")\n",
    "print(\"python!\")"
   ]
  },
  {
   "cell_type": "code",
   "execution_count": 11,
   "id": "1df5b2e2",
   "metadata": {},
   "outputs": [
    {
     "name": "stdout",
     "output_type": "stream",
     "text": [
      "Welcome to python!\n"
     ]
    }
   ],
   "source": [
    "print(\"Welcome to\", end=\" \")\n",
    "print(\"python!\")"
   ]
  },
  {
   "cell_type": "code",
   "execution_count": 12,
   "id": "485bc6ad",
   "metadata": {},
   "outputs": [
    {
     "name": "stdout",
     "output_type": "stream",
     "text": [
      "광재는 나의 친구입니다.\n"
     ]
    }
   ],
   "source": [
    "name = \"광재\"\n",
    "\n",
    "print(\"%s는 나의 친구입니다.\"%name)"
   ]
  },
  {
   "cell_type": "code",
   "execution_count": 13,
   "id": "1388b45c",
   "metadata": {},
   "outputs": [
    {
     "name": "stdout",
     "output_type": "stream",
     "text": [
      "반지름: 3, 원주율: 3.141593\n"
     ]
    }
   ],
   "source": [
    "r = 3\n",
    "PI = 3.14159265358979\n",
    "print(\"반지름: %d, 원주율: %f\"%(r,PI))"
   ]
  },
  {
   "cell_type": "markdown",
   "id": "3a565c3f",
   "metadata": {},
   "source": [
    "### 데이터가 \n",
    "### 문자열이면 %s\n",
    "### 정수이면 %d (%i)\n",
    "### 실수이면 %f (%F)"
   ]
  },
  {
   "cell_type": "code",
   "execution_count": 14,
   "id": "c3c69801",
   "metadata": {},
   "outputs": [],
   "source": [
    "animal_0=\"cat\"\n",
    "animal_1=\"dog\"\n",
    "animal_2=\"fox\""
   ]
  },
  {
   "cell_type": "code",
   "execution_count": 15,
   "id": "c2555909",
   "metadata": {},
   "outputs": [
    {
     "name": "stdout",
     "output_type": "stream",
     "text": [
      "Animal: cat\n"
     ]
    }
   ],
   "source": [
    "print(\"Animal: {0}\".format(animal_0))"
   ]
  },
  {
   "cell_type": "code",
   "execution_count": 16,
   "id": "eef7e9d8",
   "metadata": {},
   "outputs": [
    {
     "name": "stdout",
     "output_type": "stream",
     "text": [
      "Animal: cat,dog,fox\n"
     ]
    }
   ],
   "source": [
    "print(\"Animal: {0},{1},{2}\".format(animal_0,animal_1,animal_2))"
   ]
  },
  {
   "cell_type": "code",
   "execution_count": 17,
   "id": "81adc6e4",
   "metadata": {},
   "outputs": [
    {
     "name": "stdout",
     "output_type": "stream",
     "text": [
      "String: Tomas, Integer Number: 10, Floating Number: 0.12345678912345678\n"
     ]
    }
   ],
   "source": [
    "name = \"Tomas\"\n",
    "age = 10\n",
    "a = 0.123456789123456789\n",
    "fmr_string=\"String: {0}, Integer Number: {1}, Floating Number: {2}\"\n",
    "print(fmr_string.format(name,age,a))"
   ]
  },
  {
   "cell_type": "code",
   "execution_count": 18,
   "id": "368a1ef1",
   "metadata": {},
   "outputs": [
    {
     "name": "stdout",
     "output_type": "stream",
     "text": [
      "0.12,0.12346\n"
     ]
    }
   ],
   "source": [
    "0.123324234234234\n",
    "print(\"{0:.2f},{0:.5f}\".format(a))"
   ]
  },
  {
   "cell_type": "markdown",
   "id": "d4779faa",
   "metadata": {},
   "source": [
    "## 02. 키보드 입력"
   ]
  },
  {
   "cell_type": "code",
   "execution_count": 19,
   "id": "4a48a6dd",
   "metadata": {},
   "outputs": [
    {
     "name": "stdout",
     "output_type": "stream",
     "text": [
      "문자열조아진\n"
     ]
    }
   ],
   "source": [
    "data = input(\"문자열\")"
   ]
  },
  {
   "cell_type": "code",
   "execution_count": 20,
   "id": "127d8c27",
   "metadata": {},
   "outputs": [
    {
     "name": "stdout",
     "output_type": "stream",
     "text": [
      "당신의 이름은? 조아진\n"
     ]
    }
   ],
   "source": [
    "yourname = input(\"당신의 이름은? \")"
   ]
  },
  {
   "cell_type": "code",
   "execution_count": 21,
   "id": "6aaa2ed1",
   "metadata": {},
   "outputs": [
    {
     "name": "stdout",
     "output_type": "stream",
     "text": [
      "당신은 조아진이군요.\n"
     ]
    }
   ],
   "source": [
    "print(\"당신은 {}이군요.\".format(yourname))"
   ]
  },
  {
   "cell_type": "code",
   "execution_count": 22,
   "id": "09c4e192",
   "metadata": {},
   "outputs": [
    {
     "name": "stdout",
     "output_type": "stream",
     "text": [
      "당신의 이름은? 조아진\n",
      "당신은 조아진이군요.\n"
     ]
    }
   ],
   "source": [
    "yourname = input(\"당신의 이름은? \")\n",
    "print(\"당신은 {}이군요.\".format(yourname))"
   ]
  },
  {
   "cell_type": "code",
   "execution_count": 23,
   "id": "c13fd3ba",
   "metadata": {},
   "outputs": [
    {
     "name": "stdout",
     "output_type": "stream",
     "text": [
      "숫자를 입력하세요:30\n",
      "당신이 입력한 숫자는 30입니다\n"
     ]
    }
   ],
   "source": [
    "num = input(\"숫자를 입력하세요:\")\n",
    "print(\"당신이 입력한 숫자는 {}입니다\".format(num))"
   ]
  },
  {
   "cell_type": "code",
   "execution_count": 24,
   "id": "d6e90045",
   "metadata": {},
   "outputs": [
    {
     "name": "stdout",
     "output_type": "stream",
     "text": [
      "정사각형 한변의 길이는?: 5\n",
      "정사각형의 넓이 : 25.0\n"
     ]
    }
   ],
   "source": [
    "c = input(\"정사각형 한변의 길이는?: \")\n",
    "area = float(c) ** 2\n",
    "print(\"정사각형의 넓이 : {}\".format(area))"
   ]
  },
  {
   "cell_type": "code",
   "execution_count": 26,
   "id": "8d6d13ad",
   "metadata": {},
   "outputs": [
    {
     "name": "stdout",
     "output_type": "stream",
     "text": [
      "정사각형 한변의 길이는?: 3\n",
      "정사각형의 넓이 : 9\n"
     ]
    }
   ],
   "source": [
    "c = input(\"정사각형 한변의 길이는?: \")\n",
    "area = int(c) ** 2\n",
    "print(\"정사각형의 넓이 : {}\".format(area))"
   ]
  },
  {
   "cell_type": "markdown",
   "id": "f922c272",
   "metadata": {},
   "source": [
    "## 03. 파일 읽고 쓰기"
   ]
  },
  {
   "cell_type": "markdown",
   "id": "35cc1dce",
   "metadata": {},
   "source": [
    "### 파일 열기"
   ]
  },
  {
   "cell_type": "code",
   "execution_count": null,
   "id": "83d1e201",
   "metadata": {},
   "outputs": [],
   "source": [
    "f = open('file_name.txt','mode')"
   ]
  },
  {
   "cell_type": "markdown",
   "id": "fb80aeb6",
   "metadata": {},
   "source": [
    "### 파일 쓰기 "
   ]
  },
  {
   "cell_type": "code",
   "execution_count": 44,
   "id": "a1b1d3fd",
   "metadata": {},
   "outputs": [
    {
     "ename": "TypeError",
     "evalue": "write() argument must be str, not type",
     "output_type": "error",
     "traceback": [
      "\u001b[1;31m---------------------------------------------------------------------------\u001b[0m",
      "\u001b[1;31mTypeError\u001b[0m                                 Traceback (most recent call last)",
      "\u001b[1;32m<ipython-input-44-e636b8840698>\u001b[0m in \u001b[0;36m<module>\u001b[1;34m\u001b[0m\n\u001b[0;32m      1\u001b[0m \u001b[0mf\u001b[0m \u001b[1;33m=\u001b[0m \u001b[0mopen\u001b[0m\u001b[1;33m(\u001b[0m\u001b[1;34m'file_name'\u001b[0m\u001b[1;33m,\u001b[0m\u001b[1;34m'w'\u001b[0m\u001b[1;33m)\u001b[0m\u001b[1;33m\u001b[0m\u001b[1;33m\u001b[0m\u001b[0m\n\u001b[1;32m----> 2\u001b[1;33m \u001b[0mf\u001b[0m\u001b[1;33m.\u001b[0m\u001b[0mwrite\u001b[0m\u001b[1;33m(\u001b[0m\u001b[0mstr\u001b[0m\u001b[1;33m)\u001b[0m\u001b[1;33m\u001b[0m\u001b[1;33m\u001b[0m\u001b[0m\n\u001b[0m\u001b[0;32m      3\u001b[0m \u001b[0mf\u001b[0m\u001b[1;33m.\u001b[0m\u001b[0mclose\u001b[0m\u001b[1;33m(\u001b[0m\u001b[1;33m)\u001b[0m\u001b[1;33m\u001b[0m\u001b[1;33m\u001b[0m\u001b[0m\n",
      "\u001b[1;31mTypeError\u001b[0m: write() argument must be str, not type"
     ]
    }
   ],
   "source": [
    "f = open('file_name','w')\n",
    "f.write(str)\n",
    "f.close()"
   ]
  },
  {
   "cell_type": "code",
   "execution_count": 30,
   "id": "5439d9ec",
   "metadata": {
    "scrolled": true
   },
   "outputs": [
    {
     "name": "stdout",
     "output_type": "stream",
     "text": [
      "[WinError 2] 지정된 파일을 찾을 수 없습니다: 'C:/myPycode'\n",
      "C:\\study\\workspace_python\\파이썬 철저 입문\n"
     ]
    }
   ],
   "source": [
    "cd C:/myPycode"
   ]
  },
  {
   "cell_type": "code",
   "execution_count": 38,
   "id": "68a285be",
   "metadata": {},
   "outputs": [],
   "source": [
    "f= open('myFile.txt','w')\n",
    "f.write('This is my first file.')\n",
    "f.close()"
   ]
  },
  {
   "cell_type": "code",
   "execution_count": 45,
   "id": "aeb278f2",
   "metadata": {
    "scrolled": true
   },
   "outputs": [
    {
     "name": "stdout",
     "output_type": "stream",
     "text": [
      "This is my first file.\n"
     ]
    }
   ],
   "source": [
    "!type myFile.txt"
   ]
  },
  {
   "cell_type": "code",
   "execution_count": 46,
   "id": "026b3028",
   "metadata": {},
   "outputs": [],
   "source": [
    "!type file_name.txt"
   ]
  },
  {
   "cell_type": "markdown",
   "id": "aac550a0",
   "metadata": {},
   "source": [
    "### 파일 읽기"
   ]
  },
  {
   "cell_type": "code",
   "execution_count": 48,
   "id": "3489ac02",
   "metadata": {},
   "outputs": [
    {
     "name": "stdout",
     "output_type": "stream",
     "text": [
      "This is my first file.\n"
     ]
    }
   ],
   "source": [
    "f = open('myFile.txt','r')\n",
    "file_text = f.read()\n",
    "f.close()\n",
    "\n",
    "print(file_text)"
   ]
  },
  {
   "cell_type": "markdown",
   "id": "aa303ce9",
   "metadata": {},
   "source": [
    "## 04. 반복문을 이용해 파일 읽고 쓰기"
   ]
  },
  {
   "cell_type": "code",
   "execution_count": 49,
   "id": "320d63b4",
   "metadata": {},
   "outputs": [],
   "source": [
    "f = open('two_times_table.txt','w')\n",
    "for num in range(1,6):\n",
    "    format_string = \"2*{0} = {1}\\n\".format(num, 2*num)\n",
    "    f.write(format_string)\n",
    "f.close()"
   ]
  },
  {
   "cell_type": "code",
   "execution_count": 50,
   "id": "9b64e977",
   "metadata": {},
   "outputs": [
    {
     "name": "stdout",
     "output_type": "stream",
     "text": [
      "2*1 = 2\n",
      "2*2 = 4\n",
      "2*3 = 6\n",
      "2*4 = 8\n",
      "2*5 = 10\n"
     ]
    }
   ],
   "source": [
    "!type two_times_table.txt"
   ]
  },
  {
   "cell_type": "code",
   "execution_count": 51,
   "id": "7878d87d",
   "metadata": {},
   "outputs": [
    {
     "name": "stdout",
     "output_type": "stream",
     "text": [
      "2*1 = 2\n",
      "2*2 = 4\n"
     ]
    }
   ],
   "source": [
    "f = open(\"two_times_table.txt\")\n",
    "line1 = f.readline()\n",
    "line2 = f.readline()\n",
    "f.close()\n",
    "print(line1,end=\"\")\n",
    "print(line2,end=\"\")"
   ]
  },
  {
   "cell_type": "code",
   "execution_count": 54,
   "id": "646002ca",
   "metadata": {},
   "outputs": [
    {
     "name": "stdout",
     "output_type": "stream",
     "text": [
      "2*1 = 2\n",
      "2*2 = 4\n",
      "2*3 = 6\n",
      "2*4 = 8\n",
      "2*5 = 10\n"
     ]
    }
   ],
   "source": [
    "f = open(\"two_times_table.txt\")\n",
    "line = f.readline()\n",
    "while line:\n",
    "    print(line, end = \"\")\n",
    "    line = f.readline()\n",
    "f.close()"
   ]
  },
  {
   "cell_type": "code",
   "execution_count": 55,
   "id": "a541e371",
   "metadata": {},
   "outputs": [
    {
     "name": "stdout",
     "output_type": "stream",
     "text": [
      "['2*1 = 2\\n', '2*2 = 4\\n', '2*3 = 6\\n', '2*4 = 8\\n', '2*5 = 10\\n']\n"
     ]
    }
   ],
   "source": [
    "f = open(\"two_times_table.txt\")\n",
    "lines = f.readlines()\n",
    "f.close()\n",
    "\n",
    "print(lines)"
   ]
  },
  {
   "cell_type": "markdown",
   "id": "e4a1539d",
   "metadata": {},
   "source": [
    "## 05. with문을 활용해 파일 읽고 쓰기"
   ]
  },
  {
   "cell_type": "code",
   "execution_count": null,
   "id": "4003af87",
   "metadata": {},
   "outputs": [],
   "source": [
    "with open('C:/myPycode/yTextFile2.txt','w') as f:\n",
    "    f.write('File read/write test2: line1\\n')\n",
    "    f.write('File read/write test2: line2\\n')\n",
    "    f.write('File read/write test2: line3\\n')"
   ]
  },
  {
   "cell_type": "code",
   "execution_count": null,
   "id": "d310afca",
   "metadata": {},
   "outputs": [],
   "source": [
    "with open('C:/myPycode/myTextFile3.txt','r') as f:\n",
    "    for line in f:\n",
    "        print(line, end=\"\")"
   ]
  },
  {
   "cell_type": "markdown",
   "id": "0a5f97b0",
   "metadata": {},
   "source": [
    "------------------------------"
   ]
  }
 ],
 "metadata": {
  "kernelspec": {
   "display_name": "Python 3",
   "language": "python",
   "name": "python3"
  },
  "language_info": {
   "codemirror_mode": {
    "name": "ipython",
    "version": 3
   },
   "file_extension": ".py",
   "mimetype": "text/x-python",
   "name": "python",
   "nbconvert_exporter": "python",
   "pygments_lexer": "ipython3",
   "version": "3.8.8"
  }
 },
 "nbformat": 4,
 "nbformat_minor": 5
}
