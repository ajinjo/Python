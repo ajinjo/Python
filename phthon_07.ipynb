{
 "cells": [
  {
   "cell_type": "markdown",
   "id": "169188e2",
   "metadata": {},
   "source": [
    "# 함수 "
   ]
  },
  {
   "cell_type": "markdown",
   "id": "e452fc61",
   "metadata": {},
   "source": [
    "## 01. 함수 정의와 호출 "
   ]
  },
  {
   "cell_type": "code",
   "execution_count": 1,
   "id": "b24f118c",
   "metadata": {},
   "outputs": [],
   "source": [
    "def ajin():\n",
    "    return print(\"조아진\")"
   ]
  },
  {
   "cell_type": "code",
   "execution_count": 2,
   "id": "0b5063fe",
   "metadata": {
    "scrolled": true
   },
   "outputs": [
    {
     "name": "stdout",
     "output_type": "stream",
     "text": [
      "조아진\n"
     ]
    }
   ],
   "source": [
    "ajin()"
   ]
  },
  {
   "cell_type": "markdown",
   "id": "ff5f92c3",
   "metadata": {},
   "source": [
    "### 1) 인자도 반환 값도 없는 함수"
   ]
  },
  {
   "cell_type": "code",
   "execution_count": 5,
   "id": "2a9ac35e",
   "metadata": {},
   "outputs": [],
   "source": [
    "def my_func():\n",
    "    print(\"my first function!\")\n",
    "    print(\"첫 번째 함수\")"
   ]
  },
  {
   "cell_type": "code",
   "execution_count": 8,
   "id": "5b0f5d9f",
   "metadata": {},
   "outputs": [],
   "source": [
    "def my_func(a):\n",
    "    b = a+10\n",
    "    print(\"결과:\",b)"
   ]
  },
  {
   "cell_type": "code",
   "execution_count": 9,
   "id": "7a7607d0",
   "metadata": {},
   "outputs": [
    {
     "name": "stdout",
     "output_type": "stream",
     "text": [
      "결과: 15\n"
     ]
    }
   ],
   "source": [
    "my_func(5)"
   ]
  },
  {
   "cell_type": "code",
   "execution_count": 10,
   "id": "c3159f4a",
   "metadata": {},
   "outputs": [],
   "source": [
    "def my_func (a,b,c):\n",
    "    d = a+b+c\n",
    "    return d "
   ]
  },
  {
   "cell_type": "code",
   "execution_count": 11,
   "id": "a6e8d482",
   "metadata": {},
   "outputs": [
    {
     "data": {
      "text/plain": [
       "6"
      ]
     },
     "execution_count": 11,
     "metadata": {},
     "output_type": "execute_result"
    }
   ],
   "source": [
    "my_func(1,2,3)"
   ]
  },
  {
   "cell_type": "code",
   "execution_count": 12,
   "id": "4451d3cd",
   "metadata": {},
   "outputs": [],
   "source": [
    "def my_func():\n",
    "    print(\"My first function!\")\n",
    "    print(\"This is a function.\")"
   ]
  },
  {
   "cell_type": "code",
   "execution_count": 13,
   "id": "92b9a223",
   "metadata": {},
   "outputs": [
    {
     "name": "stdout",
     "output_type": "stream",
     "text": [
      "My first function!\n",
      "This is a function.\n"
     ]
    }
   ],
   "source": [
    "my_func()"
   ]
  },
  {
   "cell_type": "markdown",
   "id": "c158b098",
   "metadata": {},
   "source": [
    "### 2) 인자는 있으나 반환 값이 없는 함수"
   ]
  },
  {
   "cell_type": "code",
   "execution_count": 14,
   "id": "b3ae267f",
   "metadata": {},
   "outputs": [],
   "source": [
    "def my_friend(friendName):\n",
    "    print(\"{}는 나의 친구입니다.\".format(friendName))"
   ]
  },
  {
   "cell_type": "code",
   "execution_count": 15,
   "id": "140bef64",
   "metadata": {},
   "outputs": [
    {
     "name": "stdout",
     "output_type": "stream",
     "text": [
      "철수는 나의 친구입니다.\n"
     ]
    }
   ],
   "source": [
    "my_friend(\"철수\")"
   ]
  },
  {
   "cell_type": "code",
   "execution_count": 16,
   "id": "fea60836",
   "metadata": {},
   "outputs": [
    {
     "name": "stdout",
     "output_type": "stream",
     "text": [
      "영미는 나의 친구입니다.\n"
     ]
    }
   ],
   "source": [
    " my_friend(\"영미\")"
   ]
  },
  {
   "cell_type": "code",
   "execution_count": 17,
   "id": "7269799c",
   "metadata": {},
   "outputs": [],
   "source": [
    "def apple(fruit):\n",
    "    print(\"{}는 내가 가장 좋아하는 과일입니다.\".format(fruit))"
   ]
  },
  {
   "cell_type": "code",
   "execution_count": 19,
   "id": "5a17653a",
   "metadata": {},
   "outputs": [
    {
     "name": "stdout",
     "output_type": "stream",
     "text": [
      "메론는 내가 가장 좋아하는 과일입니다.\n"
     ]
    }
   ],
   "source": [
    "apple(\"메론\")"
   ]
  },
  {
   "cell_type": "code",
   "execution_count": 21,
   "id": "58093b48",
   "metadata": {},
   "outputs": [],
   "source": [
    "def my_student_info(name,school_ID,phoneNumber):\n",
    "    print(\"-------------------\")\n",
    "    print(\"- 학생이름:\",name)\n",
    "    print(\"- 학급번호:\",school_ID)\n",
    "    print(\"- 전화번호:\",phoneNumber)"
   ]
  },
  {
   "cell_type": "code",
   "execution_count": 22,
   "id": "c6d856bf",
   "metadata": {},
   "outputs": [
    {
     "name": "stdout",
     "output_type": "stream",
     "text": [
      "-------------------\n",
      "- 학생이름: 현아\n",
      "- 학급번호: 01\n",
      "- 전화번호: 010-234-3456\n"
     ]
    }
   ],
   "source": [
    "my_student_info(\"현아\",\"01\",\"010-234-3456\")"
   ]
  },
  {
   "cell_type": "code",
   "execution_count": 23,
   "id": "24baa7e3",
   "metadata": {},
   "outputs": [],
   "source": [
    "def my_student_info(name, school_ID, phoneNumber):\n",
    "    print(\"*********************\")\n",
    "    print(\"* 학생이름:\",name)\n",
    "    print(\"* 학급번호:\",school_ID)\n",
    "    print(\"* 전화번호:\",phoneNumber)"
   ]
  },
  {
   "cell_type": "code",
   "execution_count": 55,
   "id": "259cfb17",
   "metadata": {},
   "outputs": [
    {
     "name": "stdout",
     "output_type": "stream",
     "text": [
      "*********************\n",
      "* 학생이름: 조아진\n",
      "* 학급번호: 01\n",
      "* 전화번호: 010-1234-9276\n"
     ]
    }
   ],
   "source": [
    "my_student_info(\"조아진\",\"01\",\"010-1234-9276\")"
   ]
  },
  {
   "cell_type": "markdown",
   "id": "f60fc786",
   "metadata": {},
   "source": [
    "### 3) 인자도 있고 반환 값도 있는 함수"
   ]
  },
  {
   "cell_type": "code",
   "execution_count": 27,
   "id": "0f70fd16",
   "metadata": {},
   "outputs": [],
   "source": [
    "def my_calc(x,y):\n",
    "    z = x*y\n",
    "    return z"
   ]
  },
  {
   "cell_type": "code",
   "execution_count": 28,
   "id": "ae763608",
   "metadata": {},
   "outputs": [
    {
     "data": {
      "text/plain": [
       "20"
      ]
     },
     "execution_count": 28,
     "metadata": {},
     "output_type": "execute_result"
    }
   ],
   "source": [
    "my_calc(4,5)"
   ]
  },
  {
   "cell_type": "code",
   "execution_count": 29,
   "id": "58806ab1",
   "metadata": {},
   "outputs": [],
   "source": [
    "def my_student_info_list(student_info):\n",
    "    print(\"*********************\")\n",
    "    print(\"* 학생이름:\", student_info[0])\n",
    "    print(\"* 학급번호:\", student_info[1])\n",
    "    print(\"* 전화번호:\", student_info[2])\n",
    "    print(\"*********************\")"
   ]
  },
  {
   "cell_type": "code",
   "execution_count": 53,
   "id": "97994506",
   "metadata": {},
   "outputs": [],
   "source": [
    "student1_info = [\"조아진\",\"02\",\"010-1234-9276\"]"
   ]
  },
  {
   "cell_type": "code",
   "execution_count": 54,
   "id": "ddaeadac",
   "metadata": {},
   "outputs": [
    {
     "name": "stdout",
     "output_type": "stream",
     "text": [
      "*********************\n",
      "* 학생이름: 조아진\n",
      "* 학급번호: 02\n",
      "* 전화번호: 010-1234-9276\n",
      "*********************\n"
     ]
    }
   ],
   "source": [
    "my_student_info_list(student1_info)"
   ]
  },
  {
   "cell_type": "code",
   "execution_count": 32,
   "id": "84574890",
   "metadata": {},
   "outputs": [
    {
     "name": "stdout",
     "output_type": "stream",
     "text": [
      "*********************\n",
      "* 학생이름: 진수\n",
      "* 학급번호: 02\n",
      "* 전화번호: 010-987-6543\n",
      "*********************\n"
     ]
    }
   ],
   "source": [
    "my_student_info_list([\"진수\",\"02\",\"010-987-6543\"])"
   ]
  },
  {
   "cell_type": "code",
   "execution_count": 45,
   "id": "b75cd41e",
   "metadata": {},
   "outputs": [],
   "source": [
    "def A(B):\n",
    "    print(\"******************\")\n",
    "    print(\"*이름 : \",B[0])\n",
    "    print(\"*나이 : \",B[1])\n",
    "    print(\"*폰번호 : \",B[2])\n",
    "    print(\"******************\")\n"
   ]
  },
  {
   "cell_type": "code",
   "execution_count": 51,
   "id": "0c51df5b",
   "metadata": {},
   "outputs": [],
   "source": [
    "B=[\"조아진\",\"10\",\"010-2341-9276\"]"
   ]
  },
  {
   "cell_type": "code",
   "execution_count": 52,
   "id": "d60b552c",
   "metadata": {},
   "outputs": [
    {
     "name": "stdout",
     "output_type": "stream",
     "text": [
      "******************\n",
      "*이름 :  조아진\n",
      "*나이 :  10\n",
      "*폰번호 :  010-2341-9276\n",
      "******************\n"
     ]
    }
   ],
   "source": [
    "A(B)"
   ]
  },
  {
   "cell_type": "code",
   "execution_count": 49,
   "id": "5dcba41b",
   "metadata": {},
   "outputs": [],
   "source": [
    "def info(name,age,phone):\n",
    "    print(\"*******************\")\n",
    "    print(\"이름:\",name)\n",
    "    print(\"나이:\",age)\n",
    "    print(\"번호:\",phone)\n",
    "    print(\"******************\")"
   ]
  },
  {
   "cell_type": "code",
   "execution_count": 50,
   "id": "d047ae41",
   "metadata": {
    "scrolled": false
   },
   "outputs": [
    {
     "name": "stdout",
     "output_type": "stream",
     "text": [
      "*******************\n",
      "이름: 아진\n",
      "나이: 20\n",
      "번호: 010-2341-2341\n",
      "******************\n"
     ]
    }
   ],
   "source": [
    "info(\"아진\",\"20\",\"010-2341-2341\")"
   ]
  },
  {
   "cell_type": "markdown",
   "id": "48fcb3f8",
   "metadata": {},
   "source": [
    "## 02. 변수의 유효 범위"
   ]
  },
  {
   "cell_type": "markdown",
   "id": "68c4ad99",
   "metadata": {},
   "source": [
    "### - 지역 변수(local variable) : 함수 안에서 정의한 변수, 함수 영역 안에서만 동작 \n",
    "### - 전역 변수(global variable) : 함수 밖에서 생성한 변수, 코드 내 어디서나 사용\n"
   ]
  },
  {
   "cell_type": "code",
   "execution_count": 71,
   "id": "b0df8cda",
   "metadata": {},
   "outputs": [],
   "source": [
    "a = 5 #전역 변수\n",
    "\n",
    "def func1():\n",
    "    a = 1 #지역변수\n",
    "    print(\"[func1] 지역 변수 a =\", a)\n",
    "    \n",
    "def func2():\n",
    "    a = 2 #지역변수\n",
    "    print(\"[func2] 지역 변수 a =\", a)\n",
    "\n",
    "def func3():\n",
    "    print(\"[func3] 전역 변수 a =\", a)\n",
    "    "
   ]
  },
  {
   "cell_type": "code",
   "execution_count": 72,
   "id": "000c09c8",
   "metadata": {},
   "outputs": [
    {
     "data": {
      "text/plain": [
       "5"
      ]
     },
     "execution_count": 72,
     "metadata": {},
     "output_type": "execute_result"
    }
   ],
   "source": [
    "a"
   ]
  },
  {
   "cell_type": "code",
   "execution_count": 73,
   "id": "9aa8254f",
   "metadata": {},
   "outputs": [
    {
     "name": "stdout",
     "output_type": "stream",
     "text": [
      "[func1] 지역 변수 a = 1\n"
     ]
    }
   ],
   "source": [
    "func1()"
   ]
  },
  {
   "cell_type": "code",
   "execution_count": 74,
   "id": "bfcb46ca",
   "metadata": {
    "scrolled": true
   },
   "outputs": [
    {
     "name": "stdout",
     "output_type": "stream",
     "text": [
      "전역 변수 a = 5\n"
     ]
    }
   ],
   "source": [
    "print(\"전역 변수 a =\",a)"
   ]
  },
  {
   "cell_type": "code",
   "execution_count": 75,
   "id": "e020023a",
   "metadata": {},
   "outputs": [
    {
     "name": "stdout",
     "output_type": "stream",
     "text": [
      "[func2] 지역 변수 a = 2\n"
     ]
    }
   ],
   "source": [
    "func2()"
   ]
  },
  {
   "cell_type": "code",
   "execution_count": 76,
   "id": "3fa8fdfb",
   "metadata": {},
   "outputs": [
    {
     "name": "stdout",
     "output_type": "stream",
     "text": [
      "[func3] 전역 변수 a = 5\n"
     ]
    }
   ],
   "source": [
    "func3()"
   ]
  },
  {
   "cell_type": "markdown",
   "id": "8eee1f45",
   "metadata": {},
   "source": [
    "## 03. 람다(lambda) 함수"
   ]
  },
  {
   "cell_type": "markdown",
   "id": "aa0ca05e",
   "metadata": {},
   "source": [
    "### 한줄로 함수를 표현 : 람다(lambda) 함수"
   ]
  },
  {
   "cell_type": "markdown",
   "id": "c2f718f7",
   "metadata": {},
   "source": [
    "### lambda_function = lambda <인자> : <인자 활용 수행 코드>"
   ]
  },
  {
   "cell_type": "code",
   "execution_count": 83,
   "id": "3a04cf6b",
   "metadata": {},
   "outputs": [
    {
     "data": {
      "text/plain": [
       "<function __main__.<lambda>(x)>"
      ]
     },
     "execution_count": 83,
     "metadata": {},
     "output_type": "execute_result"
    }
   ],
   "source": [
    "(lambda x: x**2)"
   ]
  },
  {
   "cell_type": "code",
   "execution_count": 84,
   "id": "2276f482",
   "metadata": {},
   "outputs": [
    {
     "data": {
      "text/plain": [
       "9"
      ]
     },
     "execution_count": 84,
     "metadata": {},
     "output_type": "execute_result"
    }
   ],
   "source": [
    "(lambda x: x**2)(3)"
   ]
  },
  {
   "cell_type": "code",
   "execution_count": 85,
   "id": "c36e408d",
   "metadata": {},
   "outputs": [],
   "source": [
    "mySquare = lambda x : x**2"
   ]
  },
  {
   "cell_type": "code",
   "execution_count": 86,
   "id": "486005f1",
   "metadata": {
    "scrolled": true
   },
   "outputs": [
    {
     "data": {
      "text/plain": [
       "4"
      ]
     },
     "execution_count": 86,
     "metadata": {},
     "output_type": "execute_result"
    }
   ],
   "source": [
    "mySquare(2)"
   ]
  },
  {
   "cell_type": "code",
   "execution_count": 87,
   "id": "c81a7f2e",
   "metadata": {},
   "outputs": [
    {
     "data": {
      "text/plain": [
       "25"
      ]
     },
     "execution_count": 87,
     "metadata": {},
     "output_type": "execute_result"
    }
   ],
   "source": [
    "mySquare(5)"
   ]
  },
  {
   "cell_type": "code",
   "execution_count": 88,
   "id": "d2cb6876",
   "metadata": {},
   "outputs": [],
   "source": [
    "mySimpleFunc = lambda x,y,z : 2*x+3*y+z"
   ]
  },
  {
   "cell_type": "code",
   "execution_count": 89,
   "id": "e3f324b0",
   "metadata": {},
   "outputs": [
    {
     "data": {
      "text/plain": [
       "11"
      ]
     },
     "execution_count": 89,
     "metadata": {},
     "output_type": "execute_result"
    }
   ],
   "source": [
    "mySimpleFunc(1,2,3)"
   ]
  },
  {
   "cell_type": "markdown",
   "id": "541772b3",
   "metadata": {},
   "source": [
    "## 04. 유용한 내장 함수"
   ]
  },
  {
   "cell_type": "markdown",
   "id": "012cf385",
   "metadata": {},
   "source": [
    "\n",
    "### 형태(타입) 변환 함수"
   ]
  },
  {
   "cell_type": "markdown",
   "id": "cfb37da9",
   "metadata": {},
   "source": [
    "#### 1) 정수형으로 변환"
   ]
  },
  {
   "cell_type": "markdown",
   "id": "d6b4e295",
   "metadata": {},
   "source": [
    "내장 함수 int() : 실수나 문자열(정수 표시) 데이터를 정수로 변환"
   ]
  },
  {
   "cell_type": "code",
   "execution_count": 90,
   "id": "01070306",
   "metadata": {},
   "outputs": [
    {
     "data": {
      "text/plain": [
       "0"
      ]
     },
     "execution_count": 90,
     "metadata": {},
     "output_type": "execute_result"
    }
   ],
   "source": [
    "int(0.123)"
   ]
  },
  {
   "cell_type": "code",
   "execution_count": 91,
   "id": "85d1e8df",
   "metadata": {},
   "outputs": [
    {
     "data": {
      "text/plain": [
       "3"
      ]
     },
     "execution_count": 91,
     "metadata": {},
     "output_type": "execute_result"
    }
   ],
   "source": [
    "int(3.542312)"
   ]
  },
  {
   "cell_type": "code",
   "execution_count": 92,
   "id": "f7ded519",
   "metadata": {
    "scrolled": true
   },
   "outputs": [
    {
     "data": {
      "text/plain": [
       "-1"
      ]
     },
     "execution_count": 92,
     "metadata": {},
     "output_type": "execute_result"
    }
   ],
   "source": [
    "int(-1.32412)"
   ]
  },
  {
   "cell_type": "code",
   "execution_count": 93,
   "id": "b4a51bad",
   "metadata": {},
   "outputs": [
    {
     "data": {
      "text/plain": [
       "123"
      ]
     },
     "execution_count": 93,
     "metadata": {},
     "output_type": "execute_result"
    }
   ],
   "source": [
    "int('123')"
   ]
  },
  {
   "cell_type": "code",
   "execution_count": 94,
   "id": "a10e03ae",
   "metadata": {},
   "outputs": [
    {
     "data": {
      "text/plain": [
       "-234241"
      ]
     },
     "execution_count": 94,
     "metadata": {},
     "output_type": "execute_result"
    }
   ],
   "source": [
    "int('-234241')"
   ]
  },
  {
   "cell_type": "markdown",
   "id": "a90ab20a",
   "metadata": {},
   "source": [
    "#### 2) 실수형으로 변환"
   ]
  },
  {
   "cell_type": "markdown",
   "id": "74783323",
   "metadata": {},
   "source": [
    "내장 함수 float() : 정수나 문자열(정수 및 실수 표시) 데이터를 실수로 변환 "
   ]
  },
  {
   "cell_type": "code",
   "execution_count": 95,
   "id": "f061d96f",
   "metadata": {},
   "outputs": [
    {
     "data": {
      "text/plain": [
       "0.0"
      ]
     },
     "execution_count": 95,
     "metadata": {},
     "output_type": "execute_result"
    }
   ],
   "source": [
    "float(0)"
   ]
  },
  {
   "cell_type": "code",
   "execution_count": 96,
   "id": "08310a3b",
   "metadata": {},
   "outputs": [
    {
     "data": {
      "text/plain": [
       "123.0"
      ]
     },
     "execution_count": 96,
     "metadata": {},
     "output_type": "execute_result"
    }
   ],
   "source": [
    "float(123)"
   ]
  },
  {
   "cell_type": "code",
   "execution_count": 97,
   "id": "f498b7cc",
   "metadata": {},
   "outputs": [
    {
     "data": {
      "text/plain": [
       "-23412.0"
      ]
     },
     "execution_count": 97,
     "metadata": {},
     "output_type": "execute_result"
    }
   ],
   "source": [
    "float(-23412)"
   ]
  },
  {
   "cell_type": "markdown",
   "id": "1c02fbcb",
   "metadata": {},
   "source": [
    "#### 3) 문자형으로 변환"
   ]
  },
  {
   "cell_type": "markdown",
   "id": "8c8ba349",
   "metadata": {},
   "source": [
    "내장 함수 str() : 정수나 실수 데이터를 문자열로 변환 "
   ]
  },
  {
   "cell_type": "code",
   "execution_count": 98,
   "id": "9772d00c",
   "metadata": {},
   "outputs": [
    {
     "data": {
      "text/plain": [
       "'123'"
      ]
     },
     "execution_count": 98,
     "metadata": {},
     "output_type": "execute_result"
    }
   ],
   "source": [
    "str(123)"
   ]
  },
  {
   "cell_type": "code",
   "execution_count": 99,
   "id": "ab28d08d",
   "metadata": {},
   "outputs": [
    {
     "data": {
      "text/plain": [
       "'-2342'"
      ]
     },
     "execution_count": 99,
     "metadata": {},
     "output_type": "execute_result"
    }
   ],
   "source": [
    "str(-2342)"
   ]
  },
  {
   "cell_type": "code",
   "execution_count": 100,
   "id": "6706545b",
   "metadata": {},
   "outputs": [
    {
     "data": {
      "text/plain": [
       "'0.2341'"
      ]
     },
     "execution_count": 100,
     "metadata": {},
     "output_type": "execute_result"
    }
   ],
   "source": [
    "str(0.2341)"
   ]
  },
  {
   "cell_type": "markdown",
   "id": "f24d7c5c",
   "metadata": {},
   "source": [
    "#### 4) 리스트, 튜플, 세트형으로 변환"
   ]
  },
  {
   "cell_type": "code",
   "execution_count": 102,
   "id": "01d90f62",
   "metadata": {},
   "outputs": [
    {
     "data": {
      "text/plain": [
       "[1, 2, 3]"
      ]
     },
     "execution_count": 102,
     "metadata": {},
     "output_type": "execute_result"
    }
   ],
   "source": [
    "list((1,2,3))"
   ]
  },
  {
   "cell_type": "code",
   "execution_count": 103,
   "id": "a43ef445",
   "metadata": {},
   "outputs": [
    {
     "data": {
      "text/plain": [
       "[1, 2, 3]"
      ]
     },
     "execution_count": 103,
     "metadata": {},
     "output_type": "execute_result"
    }
   ],
   "source": [
    "list({1,2,3})"
   ]
  },
  {
   "cell_type": "code",
   "execution_count": 104,
   "id": "014c67b5",
   "metadata": {},
   "outputs": [
    {
     "data": {
      "text/plain": [
       "(1, 2, 3, 4)"
      ]
     },
     "execution_count": 104,
     "metadata": {},
     "output_type": "execute_result"
    }
   ],
   "source": [
    "tuple([1,2,3,4])"
   ]
  },
  {
   "cell_type": "code",
   "execution_count": 105,
   "id": "7f0d9c88",
   "metadata": {
    "scrolled": true
   },
   "outputs": [
    {
     "data": {
      "text/plain": [
       "(1, 2, 3, 4)"
      ]
     },
     "execution_count": 105,
     "metadata": {},
     "output_type": "execute_result"
    }
   ],
   "source": [
    "tuple({1,2,3,4})"
   ]
  },
  {
   "cell_type": "code",
   "execution_count": 106,
   "id": "22ed475f",
   "metadata": {},
   "outputs": [
    {
     "data": {
      "text/plain": [
       "{1, 2, 3}"
      ]
     },
     "execution_count": 106,
     "metadata": {},
     "output_type": "execute_result"
    }
   ],
   "source": [
    "set([1,2,3])"
   ]
  },
  {
   "cell_type": "code",
   "execution_count": 107,
   "id": "00c8c65e",
   "metadata": {},
   "outputs": [
    {
     "data": {
      "text/plain": [
       "{1, 2, 3, 4}"
      ]
     },
     "execution_count": 107,
     "metadata": {},
     "output_type": "execute_result"
    }
   ],
   "source": [
    "set({1,2,3,4})"
   ]
  },
  {
   "cell_type": "markdown",
   "id": "1ac9408f",
   "metadata": {},
   "source": [
    "### bool 함수"
   ]
  },
  {
   "cell_type": "markdown",
   "id": "1e4d483a",
   "metadata": {},
   "source": [
    "내장 함수 bool() : True 혹은 False의 결과를 반환"
   ]
  },
  {
   "cell_type": "markdown",
   "id": "82ce8733",
   "metadata": {},
   "source": [
    "#### 숫자를 인자로 bool 함수 호출"
   ]
  },
  {
   "cell_type": "markdown",
   "id": "f986fc6f",
   "metadata": {},
   "source": [
    "#### - 숫자 0이면 False, 0이외의 숫자면 True 반환 "
   ]
  },
  {
   "cell_type": "code",
   "execution_count": 108,
   "id": "c1109795",
   "metadata": {},
   "outputs": [
    {
     "data": {
      "text/plain": [
       "False"
      ]
     },
     "execution_count": 108,
     "metadata": {},
     "output_type": "execute_result"
    }
   ],
   "source": [
    "bool(0)"
   ]
  },
  {
   "cell_type": "code",
   "execution_count": 109,
   "id": "40f98dda",
   "metadata": {},
   "outputs": [
    {
     "data": {
      "text/plain": [
       "True"
      ]
     },
     "execution_count": 109,
     "metadata": {},
     "output_type": "execute_result"
    }
   ],
   "source": [
    "bool(1)"
   ]
  },
  {
   "cell_type": "code",
   "execution_count": 110,
   "id": "c4ec38c7",
   "metadata": {
    "scrolled": true
   },
   "outputs": [
    {
     "data": {
      "text/plain": [
       "True"
      ]
     },
     "execution_count": 110,
     "metadata": {},
     "output_type": "execute_result"
    }
   ],
   "source": [
    "bool(2)"
   ]
  },
  {
   "cell_type": "code",
   "execution_count": 111,
   "id": "c1f57662",
   "metadata": {},
   "outputs": [
    {
     "data": {
      "text/plain": [
       "True"
      ]
     },
     "execution_count": 111,
     "metadata": {},
     "output_type": "execute_result"
    }
   ],
   "source": [
    "bool(-10)"
   ]
  },
  {
   "cell_type": "code",
   "execution_count": 112,
   "id": "fee23ce1",
   "metadata": {},
   "outputs": [
    {
     "data": {
      "text/plain": [
       "True"
      ]
     },
     "execution_count": 112,
     "metadata": {},
     "output_type": "execute_result"
    }
   ],
   "source": [
    "bool(3.12)"
   ]
  },
  {
   "cell_type": "code",
   "execution_count": 113,
   "id": "e21cf093",
   "metadata": {},
   "outputs": [
    {
     "data": {
      "text/plain": [
       "True"
      ]
     },
     "execution_count": 113,
     "metadata": {},
     "output_type": "execute_result"
    }
   ],
   "source": [
    "bool(-2.123)"
   ]
  },
  {
   "cell_type": "markdown",
   "id": "ff196338",
   "metadata": {},
   "source": [
    "#### 문자열을 인자로 bool 함수 호출"
   ]
  },
  {
   "cell_type": "code",
   "execution_count": 114,
   "id": "055c5858",
   "metadata": {},
   "outputs": [
    {
     "data": {
      "text/plain": [
       "True"
      ]
     },
     "execution_count": 114,
     "metadata": {},
     "output_type": "execute_result"
    }
   ],
   "source": [
    "bool('a')"
   ]
  },
  {
   "cell_type": "code",
   "execution_count": 115,
   "id": "0bec41ac",
   "metadata": {},
   "outputs": [
    {
     "data": {
      "text/plain": [
       "True"
      ]
     },
     "execution_count": 115,
     "metadata": {},
     "output_type": "execute_result"
    }
   ],
   "source": [
    "bool(' ') #빈문자열(공백)"
   ]
  },
  {
   "cell_type": "code",
   "execution_count": 116,
   "id": "41d3b4b6",
   "metadata": {},
   "outputs": [
    {
     "data": {
      "text/plain": [
       "False"
      ]
     },
     "execution_count": 116,
     "metadata": {},
     "output_type": "execute_result"
    }
   ],
   "source": [
    "bool('') #문자열 없음 "
   ]
  },
  {
   "cell_type": "code",
   "execution_count": 117,
   "id": "729e53bf",
   "metadata": {},
   "outputs": [
    {
     "data": {
      "text/plain": [
       "False"
      ]
     },
     "execution_count": 117,
     "metadata": {},
     "output_type": "execute_result"
    }
   ],
   "source": [
    "bool(None) #인자:None"
   ]
  },
  {
   "cell_type": "markdown",
   "id": "d992c485",
   "metadata": {},
   "source": [
    "#### 리스트, 튜플, 세트를 인자로 bool 함수 호출"
   ]
  },
  {
   "cell_type": "code",
   "execution_count": 118,
   "id": "368a5e1a",
   "metadata": {},
   "outputs": [],
   "source": [
    "myFriends = []"
   ]
  },
  {
   "cell_type": "code",
   "execution_count": 119,
   "id": "83299462",
   "metadata": {},
   "outputs": [
    {
     "data": {
      "text/plain": [
       "False"
      ]
     },
     "execution_count": 119,
     "metadata": {},
     "output_type": "execute_result"
    }
   ],
   "source": [
    "bool(myFriends)"
   ]
  },
  {
   "cell_type": "code",
   "execution_count": 120,
   "id": "a3f390ff",
   "metadata": {},
   "outputs": [],
   "source": [
    "myFriends = ['James','Robert', 'Lisa', 'Mary']"
   ]
  },
  {
   "cell_type": "code",
   "execution_count": 121,
   "id": "d7ff6166",
   "metadata": {},
   "outputs": [
    {
     "data": {
      "text/plain": [
       "True"
      ]
     },
     "execution_count": 121,
     "metadata": {},
     "output_type": "execute_result"
    }
   ],
   "source": [
    "bool(myFriends)"
   ]
  },
  {
   "cell_type": "code",
   "execution_count": 122,
   "id": "7b595322",
   "metadata": {},
   "outputs": [],
   "source": [
    "myNum=()"
   ]
  },
  {
   "cell_type": "code",
   "execution_count": 123,
   "id": "00880969",
   "metadata": {},
   "outputs": [
    {
     "data": {
      "text/plain": [
       "False"
      ]
     },
     "execution_count": 123,
     "metadata": {},
     "output_type": "execute_result"
    }
   ],
   "source": [
    "bool(myNum)"
   ]
  },
  {
   "cell_type": "code",
   "execution_count": 124,
   "id": "99deb979",
   "metadata": {},
   "outputs": [],
   "source": [
    "myNum=(1,2,3,4)"
   ]
  },
  {
   "cell_type": "code",
   "execution_count": 125,
   "id": "91549305",
   "metadata": {},
   "outputs": [
    {
     "data": {
      "text/plain": [
       "True"
      ]
     },
     "execution_count": 125,
     "metadata": {},
     "output_type": "execute_result"
    }
   ],
   "source": [
    "bool(myNum)"
   ]
  },
  {
   "cell_type": "code",
   "execution_count": 126,
   "id": "043ebc51",
   "metadata": {},
   "outputs": [],
   "source": [
    "mySetA={}"
   ]
  },
  {
   "cell_type": "code",
   "execution_count": 127,
   "id": "506f5c55",
   "metadata": {},
   "outputs": [
    {
     "data": {
      "text/plain": [
       "False"
      ]
     },
     "execution_count": 127,
     "metadata": {},
     "output_type": "execute_result"
    }
   ],
   "source": [
    "bool(mySetA)"
   ]
  },
  {
   "cell_type": "code",
   "execution_count": 128,
   "id": "bdbac264",
   "metadata": {},
   "outputs": [],
   "source": [
    "mySetA={1,2,3}"
   ]
  },
  {
   "cell_type": "code",
   "execution_count": 129,
   "id": "7d19f6a5",
   "metadata": {},
   "outputs": [
    {
     "data": {
      "text/plain": [
       "True"
      ]
     },
     "execution_count": 129,
     "metadata": {},
     "output_type": "execute_result"
    }
   ],
   "source": [
    "bool(mySetA)"
   ]
  },
  {
   "cell_type": "markdown",
   "id": "5ac4884b",
   "metadata": {},
   "source": [
    "#### bool 함수의 활용"
   ]
  },
  {
   "cell_type": "code",
   "execution_count": 130,
   "id": "ca47efa8",
   "metadata": {},
   "outputs": [],
   "source": [
    "def print_name(name):\n",
    "    if bool(name):\n",
    "        print(\"입력된 이름:\",name)\n",
    "    else:\n",
    "        print(\"입력된 이름이 없습니다.\")"
   ]
  },
  {
   "cell_type": "code",
   "execution_count": 132,
   "id": "0fa4cdfd",
   "metadata": {},
   "outputs": [
    {
     "name": "stdout",
     "output_type": "stream",
     "text": [
      "입력된 이름: James\n"
     ]
    }
   ],
   "source": [
    "print_name('James')"
   ]
  },
  {
   "cell_type": "code",
   "execution_count": 133,
   "id": "c56b7f77",
   "metadata": {},
   "outputs": [
    {
     "name": "stdout",
     "output_type": "stream",
     "text": [
      "입력된 이름이 없습니다.\n"
     ]
    }
   ],
   "source": [
    "print_name('')"
   ]
  },
  {
   "cell_type": "code",
   "execution_count": 134,
   "id": "2dfeac28",
   "metadata": {},
   "outputs": [],
   "source": [
    "def phone(number):\n",
    "    if bool(number):\n",
    "        print('당신의 폰번호 : ', number)\n",
    "    else:\n",
    "        print('당신의 폰번호는 입력되지 않았습니다.')"
   ]
  },
  {
   "cell_type": "code",
   "execution_count": 136,
   "id": "e2912cec",
   "metadata": {},
   "outputs": [
    {
     "name": "stdout",
     "output_type": "stream",
     "text": [
      "당신의 폰번호 :  010-2311-1231\n"
     ]
    }
   ],
   "source": [
    "phone('010-2311-1231')"
   ]
  },
  {
   "cell_type": "code",
   "execution_count": 138,
   "id": "3a520b52",
   "metadata": {},
   "outputs": [
    {
     "name": "stdout",
     "output_type": "stream",
     "text": [
      "당신의 폰번호는 입력되지 않았습니다.\n"
     ]
    }
   ],
   "source": [
    "phone('')"
   ]
  },
  {
   "cell_type": "markdown",
   "id": "8b4d81c1",
   "metadata": {},
   "source": [
    "### 최솟값과 최댓값을 구하는 함수"
   ]
  },
  {
   "cell_type": "code",
   "execution_count": 139,
   "id": "ffea8730",
   "metadata": {},
   "outputs": [],
   "source": [
    "myNum = [10, 5, 12, 0, 3.5, 99.5, 42]"
   ]
  },
  {
   "cell_type": "code",
   "execution_count": 140,
   "id": "94e08a6a",
   "metadata": {},
   "outputs": [
    {
     "data": {
      "text/plain": [
       "0"
      ]
     },
     "execution_count": 140,
     "metadata": {},
     "output_type": "execute_result"
    }
   ],
   "source": [
    "min(myNum)"
   ]
  },
  {
   "cell_type": "code",
   "execution_count": 141,
   "id": "f2fb9645",
   "metadata": {
    "scrolled": true
   },
   "outputs": [
    {
     "data": {
      "text/plain": [
       "99.5"
      ]
     },
     "execution_count": 141,
     "metadata": {},
     "output_type": "execute_result"
    }
   ],
   "source": [
    "max(myNum)"
   ]
  },
  {
   "cell_type": "code",
   "execution_count": 142,
   "id": "00f4b2c7",
   "metadata": {},
   "outputs": [],
   "source": [
    "myStr='zxwndc'"
   ]
  },
  {
   "cell_type": "code",
   "execution_count": 143,
   "id": "a86c9edd",
   "metadata": {},
   "outputs": [
    {
     "data": {
      "text/plain": [
       "'c'"
      ]
     },
     "execution_count": 143,
     "metadata": {},
     "output_type": "execute_result"
    }
   ],
   "source": [
    "min(myStr)"
   ]
  },
  {
   "cell_type": "code",
   "execution_count": 144,
   "id": "ce12eefe",
   "metadata": {},
   "outputs": [
    {
     "data": {
      "text/plain": [
       "'z'"
      ]
     },
     "execution_count": 144,
     "metadata": {},
     "output_type": "execute_result"
    }
   ],
   "source": [
    "max(myStr)"
   ]
  },
  {
   "cell_type": "code",
   "execution_count": 145,
   "id": "ef9efc69",
   "metadata": {},
   "outputs": [],
   "source": [
    "myNum = (10, 5, 12, 0, 3.5, 99.5, 42)"
   ]
  },
  {
   "cell_type": "code",
   "execution_count": 146,
   "id": "a7c37062",
   "metadata": {},
   "outputs": [
    {
     "data": {
      "text/plain": [
       "0"
      ]
     },
     "execution_count": 146,
     "metadata": {},
     "output_type": "execute_result"
    }
   ],
   "source": [
    "min(myNum)"
   ]
  },
  {
   "cell_type": "code",
   "execution_count": 147,
   "id": "5128600a",
   "metadata": {},
   "outputs": [
    {
     "data": {
      "text/plain": [
       "99.5"
      ]
     },
     "execution_count": 147,
     "metadata": {},
     "output_type": "execute_result"
    }
   ],
   "source": [
    "max(myNum)"
   ]
  },
  {
   "cell_type": "code",
   "execution_count": 148,
   "id": "da28ce57",
   "metadata": {},
   "outputs": [],
   "source": [
    "myNum = {\"Abc\",\"abc\",\"sdf\",\"wer\"}"
   ]
  },
  {
   "cell_type": "code",
   "execution_count": 149,
   "id": "3d800fc3",
   "metadata": {},
   "outputs": [
    {
     "data": {
      "text/plain": [
       "'Abc'"
      ]
     },
     "execution_count": 149,
     "metadata": {},
     "output_type": "execute_result"
    }
   ],
   "source": [
    "min(myNum)"
   ]
  },
  {
   "cell_type": "code",
   "execution_count": 150,
   "id": "b46271e8",
   "metadata": {},
   "outputs": [
    {
     "data": {
      "text/plain": [
       "'wer'"
      ]
     },
     "execution_count": 150,
     "metadata": {},
     "output_type": "execute_result"
    }
   ],
   "source": [
    "max(myNum)"
   ]
  },
  {
   "cell_type": "markdown",
   "id": "426ec3b4",
   "metadata": {},
   "source": [
    "### 절댓값과 전체 합을 구하는 함수"
   ]
  },
  {
   "cell_type": "code",
   "execution_count": 153,
   "id": "719d1d3f",
   "metadata": {},
   "outputs": [
    {
     "data": {
      "text/plain": [
       "234"
      ]
     },
     "execution_count": 153,
     "metadata": {},
     "output_type": "execute_result"
    }
   ],
   "source": [
    "abs(234)"
   ]
  },
  {
   "cell_type": "code",
   "execution_count": 154,
   "id": "8bdb62c8",
   "metadata": {},
   "outputs": [
    {
     "data": {
      "text/plain": [
       "123"
      ]
     },
     "execution_count": 154,
     "metadata": {},
     "output_type": "execute_result"
    }
   ],
   "source": [
    "abs(-123)"
   ]
  },
  {
   "cell_type": "code",
   "execution_count": 156,
   "id": "6225b9fc",
   "metadata": {
    "scrolled": true
   },
   "outputs": [
    {
     "data": {
      "text/plain": [
       "234.234234"
      ]
     },
     "execution_count": 156,
     "metadata": {},
     "output_type": "execute_result"
    }
   ],
   "source": [
    "abs(234.234234)"
   ]
  },
  {
   "cell_type": "code",
   "execution_count": 157,
   "id": "072fb02b",
   "metadata": {},
   "outputs": [],
   "source": [
    "sumList=[1,2,3,4,5,6]"
   ]
  },
  {
   "cell_type": "code",
   "execution_count": 158,
   "id": "18b3de63",
   "metadata": {},
   "outputs": [
    {
     "data": {
      "text/plain": [
       "21"
      ]
     },
     "execution_count": 158,
     "metadata": {},
     "output_type": "execute_result"
    }
   ],
   "source": [
    "sum(sumList)"
   ]
  },
  {
   "cell_type": "markdown",
   "id": "1eed306f",
   "metadata": {},
   "source": [
    "### 항목의 개수를 구하는 함수"
   ]
  },
  {
   "cell_type": "code",
   "execution_count": 159,
   "id": "d8d1de89",
   "metadata": {},
   "outputs": [
    {
     "data": {
      "text/plain": [
       "5"
      ]
     },
     "execution_count": 159,
     "metadata": {},
     "output_type": "execute_result"
    }
   ],
   "source": [
    "len(\"ab cd\")"
   ]
  },
  {
   "cell_type": "code",
   "execution_count": 160,
   "id": "f6d622bf",
   "metadata": {},
   "outputs": [
    {
     "data": {
      "text/plain": [
       "8"
      ]
     },
     "execution_count": 160,
     "metadata": {},
     "output_type": "execute_result"
    }
   ],
   "source": [
    "len([1,2,3,4,5,6,7,8])"
   ]
  },
  {
   "cell_type": "code",
   "execution_count": 161,
   "id": "a56142a9",
   "metadata": {
    "scrolled": true
   },
   "outputs": [
    {
     "data": {
      "text/plain": [
       "5"
      ]
     },
     "execution_count": 161,
     "metadata": {},
     "output_type": "execute_result"
    }
   ],
   "source": [
    "len((1,2,3,4,5))"
   ]
  },
  {
   "cell_type": "code",
   "execution_count": 162,
   "id": "ceb7ed7b",
   "metadata": {},
   "outputs": [
    {
     "data": {
      "text/plain": [
       "3"
      ]
     },
     "execution_count": 162,
     "metadata": {},
     "output_type": "execute_result"
    }
   ],
   "source": [
    "len({\"a\",\"b\",\"c\"})"
   ]
  },
  {
   "cell_type": "code",
   "execution_count": 163,
   "id": "86a30472",
   "metadata": {},
   "outputs": [
    {
     "data": {
      "text/plain": [
       "3"
      ]
     },
     "execution_count": 163,
     "metadata": {},
     "output_type": "execute_result"
    }
   ],
   "source": [
    "len({1:\"wer\",2:\"ert\",3:\"rty\"})"
   ]
  },
  {
   "cell_type": "markdown",
   "id": "271dba6e",
   "metadata": {},
   "source": [
    "### 내장 함수의 활용"
   ]
  },
  {
   "cell_type": "code",
   "execution_count": 164,
   "id": "2e59bc0e",
   "metadata": {},
   "outputs": [],
   "source": [
    "scores = [90,80,95,85]"
   ]
  },
  {
   "cell_type": "code",
   "execution_count": 165,
   "id": "94f9a94e",
   "metadata": {},
   "outputs": [
    {
     "name": "stdout",
     "output_type": "stream",
     "text": [
      "총점:350, 평균:87.5\n"
     ]
    }
   ],
   "source": [
    "score_sum=0\n",
    "subject_num=0\n",
    "\n",
    "for score in scores:\n",
    "    score_sum = score_sum + score\n",
    "    subject_num = subject_num + 1\n",
    "    \n",
    "average = score_sum / subject_num\n",
    "\n",
    "print(\"총점:{0}, 평균:{1}\".format(score_sum,average))"
   ]
  },
  {
   "cell_type": "code",
   "execution_count": 166,
   "id": "0e620cf5",
   "metadata": {},
   "outputs": [],
   "source": [
    "scores = [90,80,95,85]"
   ]
  },
  {
   "cell_type": "code",
   "execution_count": 167,
   "id": "eca3986f",
   "metadata": {},
   "outputs": [
    {
     "name": "stdout",
     "output_type": "stream",
     "text": [
      "총점:350, 평균:87.5\n"
     ]
    }
   ],
   "source": [
    "print(\"총점:{0}, 평균:{1}\".format(sum(scores),sum(scores)/len(scores)))"
   ]
  },
  {
   "cell_type": "code",
   "execution_count": 168,
   "id": "a82aa568",
   "metadata": {},
   "outputs": [
    {
     "name": "stdout",
     "output_type": "stream",
     "text": [
      "최하 점수:80, 최고 점수:95\n"
     ]
    }
   ],
   "source": [
    "print(\"최하 점수:{0}, 최고 점수:{1}\".format(min(scores),max(scores)))"
   ]
  }
 ],
 "metadata": {
  "kernelspec": {
   "display_name": "Python 3",
   "language": "python",
   "name": "python3"
  },
  "language_info": {
   "codemirror_mode": {
    "name": "ipython",
    "version": 3
   },
   "file_extension": ".py",
   "mimetype": "text/x-python",
   "name": "python",
   "nbconvert_exporter": "python",
   "pygments_lexer": "ipython3",
   "version": "3.8.8"
  }
 },
 "nbformat": 4,
 "nbformat_minor": 5
}
