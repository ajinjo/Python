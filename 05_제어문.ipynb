{
 "cells": [
  {
   "cell_type": "markdown",
   "id": "11628516",
   "metadata": {},
   "source": [
    "# 제어문 "
   ]
  },
  {
   "cell_type": "markdown",
   "id": "507c72f5",
   "metadata": {},
   "source": [
    "## - 조건문 : 조건을 검사해 분기하는 구문\n",
    "## - 반복문 : 구간이나 조건을 만족하는 동안 코드의 일부분을 반복하는 구문"
   ]
  },
  {
   "cell_type": "markdown",
   "id": "47bebb78",
   "metadata": {},
   "source": [
    "---------------"
   ]
  },
  {
   "cell_type": "markdown",
   "id": "ed4974e7",
   "metadata": {},
   "source": [
    "### 조건문 : if문\n",
    "### 지정된 범위만큼 반복 : for문\n",
    "### 조건이 맞을때만 반복 : while문"
   ]
  },
  {
   "cell_type": "markdown",
   "id": "e5d56a58",
   "metadata": {},
   "source": [
    "-------------------"
   ]
  },
  {
   "cell_type": "markdown",
   "id": "cdf77e94",
   "metadata": {},
   "source": [
    "## 01. 조건에 따라 분기하는 if문"
   ]
  },
  {
   "cell_type": "markdown",
   "id": "5d184c2e",
   "metadata": {},
   "source": [
    "## if : 단일 조건에 따라서 분기"
   ]
  },
  {
   "cell_type": "code",
   "execution_count": 1,
   "id": "0fdf498e",
   "metadata": {},
   "outputs": [
    {
     "name": "stdout",
     "output_type": "stream",
     "text": [
      "축하합니다.\n",
      "당신은 합격입니다.\n"
     ]
    }
   ],
   "source": [
    "x = 100\n",
    "\n",
    "if x >= 90:\n",
    "    print('축하합니다.')\n",
    "    print('당신은 합격입니다.')"
   ]
  },
  {
   "cell_type": "markdown",
   "id": "2a77cd25",
   "metadata": {},
   "source": [
    "##  if ~ else : 단일 조건 및 그 외 조건에 따른 분기 "
   ]
  },
  {
   "cell_type": "code",
   "execution_count": 2,
   "id": "47025f08",
   "metadata": {},
   "outputs": [
    {
     "name": "stdout",
     "output_type": "stream",
     "text": [
      "죄송합니다.\n",
      "당신은 불합격입니다.\n"
     ]
    }
   ],
   "source": [
    "x = 80\n",
    "\n",
    "if x >= 90:\n",
    "    print('축하합니다.')\n",
    "    print('당신은 합격입니다.')\n",
    "else:\n",
    "    print('죄송합니다.')\n",
    "    print('당신은 불합격입니다.')"
   ]
  },
  {
   "cell_type": "code",
   "execution_count": 3,
   "id": "39ab04c4",
   "metadata": {},
   "outputs": [
    {
     "name": "stdout",
     "output_type": "stream",
     "text": [
      "Pass\n"
     ]
    }
   ],
   "source": [
    "x = 100\n",
    "if x >= 90:\n",
    "    print('Pass')\n",
    "else:\n",
    "    print('Fail')"
   ]
  },
  {
   "cell_type": "markdown",
   "id": "2bafce73",
   "metadata": {},
   "source": [
    "##  if ~ elif ~ else : 여러 조건에 따른 분기"
   ]
  },
  {
   "cell_type": "code",
   "execution_count": 4,
   "id": "fe61881a",
   "metadata": {},
   "outputs": [
    {
     "name": "stdout",
     "output_type": "stream",
     "text": [
      "Good\n"
     ]
    }
   ],
   "source": [
    "x = 85\n",
    "\n",
    "if x >= 90:\n",
    "    print(\"Very good\")\n",
    "elif (x >= 80) and (x < 90):\n",
    "    print(\"Good\")\n",
    "else:\n",
    "    print(\"Bad\")"
   ]
  },
  {
   "cell_type": "code",
   "execution_count": 5,
   "id": "2ddc9c8e",
   "metadata": {},
   "outputs": [
    {
     "name": "stdout",
     "output_type": "stream",
     "text": [
      "Good\n"
     ]
    }
   ],
   "source": [
    "x = 85\n",
    "\n",
    "if x >= 90:\n",
    "    print(\"Very Good\")\n",
    "elif 80 <= x < 90:\n",
    "    print(\"Good\")\n",
    "else:\n",
    "    print(\"Bad\")"
   ]
  },
  {
   "cell_type": "code",
   "execution_count": 6,
   "id": "47f22d49",
   "metadata": {
    "scrolled": true
   },
   "outputs": [
    {
     "name": "stdout",
     "output_type": "stream",
     "text": [
      "우수합니다.\n"
     ]
    }
   ],
   "source": [
    "x=100\n",
    "\n",
    "if x >= 90:\n",
    "    print(\"우수합니다.\")\n",
    "elif 80 <= x < 90:\n",
    "    print(\"잘했습니다.\")\n",
    "else:\n",
    "    print(\"분발합시다.\")"
   ]
  },
  {
   "cell_type": "markdown",
   "id": "d7c06a4c",
   "metadata": {},
   "source": [
    "## 중첩 조건문 : 조건문 안에 또 다른 조건문을 사용"
   ]
  },
  {
   "cell_type": "code",
   "execution_count": 7,
   "id": "b5d9e1eb",
   "metadata": {},
   "outputs": [
    {
     "name": "stdout",
     "output_type": "stream",
     "text": [
      "완벽합니다.\n"
     ]
    }
   ],
   "source": [
    "x = 100\n",
    "\n",
    "if x >= 90:\n",
    "    if x == 100:\n",
    "        print(\"완벽합니다.\")\n",
    "    else:\n",
    "        print(\"훌륭합니다.\")\n",
    "elif 80 <= x < 90:\n",
    "    print(\"잘했습니다.\")\n",
    "else:\n",
    "    print(\"노력이 필요합니다.\")"
   ]
  },
  {
   "cell_type": "code",
   "execution_count": 8,
   "id": "7001eb7e",
   "metadata": {},
   "outputs": [
    {
     "name": "stdout",
     "output_type": "stream",
     "text": [
      "Very good\n"
     ]
    }
   ],
   "source": [
    "x = 95\n",
    "\n",
    "if x >= 90:\n",
    "    if x == 100:\n",
    "        print(\"Perfect\")\n",
    "    else:\n",
    "        print(\"Very good\")\n",
    "elif (x >= 80) and (x < 90):\n",
    "    print(\"Good\")\n",
    "else:\n",
    "    print(\"Bad\")"
   ]
  },
  {
   "cell_type": "markdown",
   "id": "5531b338",
   "metadata": {},
   "source": [
    "## pass :  코드가 실행되기는 하지만 아무 일도 일어나지 않음"
   ]
  },
  {
   "cell_type": "code",
   "execution_count": 9,
   "id": "1d0c6ce1",
   "metadata": {},
   "outputs": [],
   "source": [
    "x = 75\n",
    "\n",
    "if x >= 80:\n",
    "    pass\n",
    "else:\n",
    "    pass"
   ]
  },
  {
   "cell_type": "markdown",
   "id": "e2e527c7",
   "metadata": {},
   "source": [
    "--------------------------"
   ]
  },
  {
   "cell_type": "markdown",
   "id": "cc8e0609",
   "metadata": {},
   "source": [
    "## 02. 지정된 범위만큼 반복하는 for 문"
   ]
  },
  {
   "cell_type": "code",
   "execution_count": 10,
   "id": "42c32a29",
   "metadata": {},
   "outputs": [],
   "source": [
    "a = 0"
   ]
  },
  {
   "cell_type": "code",
   "execution_count": 11,
   "id": "daefc053",
   "metadata": {},
   "outputs": [
    {
     "name": "stdout",
     "output_type": "stream",
     "text": [
      "0\n"
     ]
    }
   ],
   "source": [
    "print(a)"
   ]
  },
  {
   "cell_type": "code",
   "execution_count": 12,
   "id": "d6993b65",
   "metadata": {},
   "outputs": [],
   "source": [
    "a = a + 1 "
   ]
  },
  {
   "cell_type": "code",
   "execution_count": 13,
   "id": "26df3133",
   "metadata": {},
   "outputs": [
    {
     "name": "stdout",
     "output_type": "stream",
     "text": [
      "1\n"
     ]
    }
   ],
   "source": [
    "print(a)"
   ]
  },
  {
   "cell_type": "code",
   "execution_count": 14,
   "id": "63d4c778",
   "metadata": {},
   "outputs": [],
   "source": [
    "a = a + 1 "
   ]
  },
  {
   "cell_type": "code",
   "execution_count": 15,
   "id": "3762da7f",
   "metadata": {},
   "outputs": [
    {
     "name": "stdout",
     "output_type": "stream",
     "text": [
      "2\n"
     ]
    }
   ],
   "source": [
    "print(a)"
   ]
  },
  {
   "cell_type": "code",
   "execution_count": 16,
   "id": "2b1de458",
   "metadata": {},
   "outputs": [
    {
     "name": "stdout",
     "output_type": "stream",
     "text": [
      "0\n",
      "1\n",
      "2\n",
      "3\n",
      "4\n",
      "5\n"
     ]
    }
   ],
   "source": [
    "for a in [0, 1, 2, 3, 4, 5]:\n",
    "    print(a)"
   ]
  },
  {
   "cell_type": "code",
   "execution_count": 17,
   "id": "b8a1fe0a",
   "metadata": {},
   "outputs": [
    {
     "name": "stdout",
     "output_type": "stream",
     "text": [
      "0\n",
      "10\n",
      "1\n",
      "11\n",
      "2\n",
      "12\n",
      "3\n",
      "13\n",
      "4\n",
      "14\n",
      "5\n",
      "15\n"
     ]
    }
   ],
   "source": [
    "for a in [0, 1, 2, 3, 4, 5]:\n",
    "    print(a)\n",
    "    print(a + 10)"
   ]
  },
  {
   "cell_type": "markdown",
   "id": "23e5b153",
   "metadata": {},
   "source": [
    "## 반복 범위 지정 \n",
    "### 1) 리스트 이용\n",
    "### 2) range() 함수 이용 "
   ]
  },
  {
   "cell_type": "code",
   "execution_count": 18,
   "id": "f8f20f0c",
   "metadata": {},
   "outputs": [
    {
     "name": "stdout",
     "output_type": "stream",
     "text": [
      "0\n",
      "1\n",
      "2\n",
      "3\n",
      "4\n",
      "5\n"
     ]
    }
   ],
   "source": [
    "for a in [0,1,2,3,4,5]:\n",
    "    print(a)"
   ]
  },
  {
   "cell_type": "code",
   "execution_count": 19,
   "id": "3fb001c2",
   "metadata": {},
   "outputs": [
    {
     "name": "stdout",
     "output_type": "stream",
     "text": [
      "James\n",
      "Robert\n",
      "Lisa\n",
      "Mary\n"
     ]
    }
   ],
   "source": [
    "myFriends = ['James','Robert','Lisa','Mary']\n",
    "for myFriend in myFriends:\n",
    "    print(myFriend)"
   ]
  },
  {
   "cell_type": "code",
   "execution_count": 20,
   "id": "b39c810b",
   "metadata": {},
   "outputs": [
    {
     "name": "stdout",
     "output_type": "stream",
     "text": [
      "range(0, 10)\n"
     ]
    }
   ],
   "source": [
    "print(range(0, 10, 1))"
   ]
  },
  {
   "cell_type": "code",
   "execution_count": 21,
   "id": "423bb045",
   "metadata": {},
   "outputs": [
    {
     "name": "stdout",
     "output_type": "stream",
     "text": [
      "0\n",
      "1\n",
      "2\n",
      "3\n",
      "4\n",
      "5\n"
     ]
    }
   ],
   "source": [
    "for a in range(0,6,1):\n",
    "    print(a)"
   ]
  },
  {
   "cell_type": "code",
   "execution_count": 22,
   "id": "3c5c65d7",
   "metadata": {},
   "outputs": [
    {
     "name": "stdout",
     "output_type": "stream",
     "text": [
      "0\n",
      "2\n",
      "4\n",
      "6\n",
      "8\n"
     ]
    }
   ],
   "source": [
    "for a in range(0,10,2):\n",
    "    print(a)"
   ]
  },
  {
   "cell_type": "code",
   "execution_count": 23,
   "id": "bdca37a3",
   "metadata": {},
   "outputs": [
    {
     "name": "stdout",
     "output_type": "stream",
     "text": [
      "0\n",
      "1\n",
      "2\n",
      "3\n",
      "4\n"
     ]
    }
   ],
   "source": [
    "for a in range(5):\n",
    "    print(a)"
   ]
  },
  {
   "cell_type": "code",
   "execution_count": 24,
   "id": "1b58f51d",
   "metadata": {},
   "outputs": [
    {
     "name": "stdout",
     "output_type": "stream",
     "text": [
      "0\n",
      "1\n",
      "2\n",
      "3\n",
      "4\n"
     ]
    }
   ],
   "source": [
    "for a in range(0,5,1):\n",
    "    print(a)"
   ]
  },
  {
   "cell_type": "markdown",
   "id": "27772494",
   "metadata": {},
   "source": [
    "## 중첩 for 문"
   ]
  },
  {
   "cell_type": "code",
   "execution_count": 25,
   "id": "51ae0ea3",
   "metadata": {},
   "outputs": [
    {
     "name": "stdout",
     "output_type": "stream",
     "text": [
      "x y\n",
      "x1 y1\n",
      "x1 y2\n",
      "x2 y1\n",
      "x2 y2\n"
     ]
    }
   ],
   "source": [
    "x_list=['x1','x2']\n",
    "y_list=['y1','y2']\n",
    "\n",
    "print(\"x y\")\n",
    "for x in x_list:\n",
    "    for y in y_list:\n",
    "        print(x,y)"
   ]
  },
  {
   "cell_type": "markdown",
   "id": "dedcde7a",
   "metadata": {},
   "source": [
    " ## 여러개의 리스트 for문 이용해 다루기"
   ]
  },
  {
   "cell_type": "code",
   "execution_count": 26,
   "id": "0cb27270",
   "metadata": {},
   "outputs": [],
   "source": [
    "names = ['James','Robert','Lisa','Mary']\n",
    "scores = [95, 96, 97, 94]"
   ]
  },
  {
   "cell_type": "code",
   "execution_count": 27,
   "id": "f036b798",
   "metadata": {
    "scrolled": true
   },
   "outputs": [
    {
     "name": "stdout",
     "output_type": "stream",
     "text": [
      "James 95\n",
      "Robert 96\n",
      "Lisa 97\n",
      "Mary 94\n"
     ]
    }
   ],
   "source": [
    "for k in range(len(names)):\n",
    "    print(names[k], scores[k])"
   ]
  },
  {
   "cell_type": "markdown",
   "id": "7e1cb92c",
   "metadata": {},
   "source": [
    "#### zip() : 같은 길이의 데이터를 하나로 묶어주는 함수"
   ]
  },
  {
   "cell_type": "code",
   "execution_count": 28,
   "id": "45dc5709",
   "metadata": {},
   "outputs": [
    {
     "name": "stdout",
     "output_type": "stream",
     "text": [
      "James 95\n",
      "Robert 96\n",
      "Lisa 97\n",
      "Mary 94\n"
     ]
    }
   ],
   "source": [
    "for name,score in zip(names,scores):\n",
    "    print(name,score)\n",
    "    "
   ]
  },
  {
   "cell_type": "markdown",
   "id": "0d5ce584",
   "metadata": {},
   "source": [
    "## 03. 조건에 따라 반복하는 while 문"
   ]
  },
  {
   "cell_type": "code",
   "execution_count": 29,
   "id": "67ef05c8",
   "metadata": {},
   "outputs": [],
   "source": [
    "i=0\n",
    "sum=0"
   ]
  },
  {
   "cell_type": "code",
   "execution_count": 30,
   "id": "85a61d4c",
   "metadata": {},
   "outputs": [
    {
     "name": "stdout",
     "output_type": "stream",
     "text": [
      "i sum\n"
     ]
    }
   ],
   "source": [
    "print(\"i sum\")"
   ]
  },
  {
   "cell_type": "code",
   "execution_count": 32,
   "id": "95a58a4a",
   "metadata": {},
   "outputs": [
    {
     "name": "stdout",
     "output_type": "stream",
     "text": [
      "1 1\n",
      "2 3\n",
      "3 6\n",
      "4 10\n",
      "5 15\n",
      "6 21\n"
     ]
    }
   ],
   "source": [
    "while (sum < 20 ):\n",
    "    i = i+1\n",
    "    sum = sum + i\n",
    "    print(i, sum)"
   ]
  },
  {
   "cell_type": "markdown",
   "id": "508b546b",
   "metadata": {},
   "source": [
    "## 04. 반복문을 제어하는 break와 continue"
   ]
  },
  {
   "cell_type": "code",
   "execution_count": 33,
   "id": "73a2385e",
   "metadata": {},
   "outputs": [
    {
     "name": "stdout",
     "output_type": "stream",
     "text": [
      "1\n",
      "2\n",
      "3\n"
     ]
    }
   ],
   "source": [
    "k=0\n",
    "\n",
    "while True:\n",
    "    k = k + 1\n",
    "    \n",
    "    if (k > 3):\n",
    "        break\n",
    "        \n",
    "    print(k)"
   ]
  },
  {
   "cell_type": "code",
   "execution_count": 34,
   "id": "e8b26d67",
   "metadata": {},
   "outputs": [
    {
     "name": "stdout",
     "output_type": "stream",
     "text": [
      "1\n",
      "2\n",
      "3\n",
      "4\n",
      "5\n",
      "6\n",
      "7\n",
      "8\n",
      "9\n",
      "10\n"
     ]
    }
   ],
   "source": [
    "k=0\n",
    "\n",
    "while True:\n",
    "    k = k + 1\n",
    "    \n",
    "    if k>10:\n",
    "        break\n",
    "    print(k)"
   ]
  },
  {
   "cell_type": "code",
   "execution_count": 35,
   "id": "4f3c1192",
   "metadata": {},
   "outputs": [
    {
     "name": "stdout",
     "output_type": "stream",
     "text": [
      "0\n",
      "1\n",
      "2\n"
     ]
    }
   ],
   "source": [
    "for k in range(10):\n",
    "    if k>2:\n",
    "        break\n",
    "        \n",
    "    print(k)"
   ]
  },
  {
   "cell_type": "code",
   "execution_count": 36,
   "id": "ba6e7144",
   "metadata": {},
   "outputs": [
    {
     "name": "stdout",
     "output_type": "stream",
     "text": [
      "0\n",
      "1\n",
      "3\n",
      "4\n"
     ]
    }
   ],
   "source": [
    "for k in range(5):\n",
    "    if k==2:\n",
    "        continue\n",
    "        \n",
    "    print(k)"
   ]
  },
  {
   "cell_type": "code",
   "execution_count": 37,
   "id": "1be38e3b",
   "metadata": {},
   "outputs": [
    {
     "name": "stdout",
     "output_type": "stream",
     "text": [
      "1\n",
      "continue next\n",
      "3\n",
      "4\n"
     ]
    }
   ],
   "source": [
    "k = 0\n",
    "while True:\n",
    "    k = k + 1\n",
    "    \n",
    "    if k==2:\n",
    "        print(\"continue next\")\n",
    "        continue\n",
    "        \n",
    "    if k>4:\n",
    "        break\n",
    "        \n",
    "    print(k)"
   ]
  },
  {
   "cell_type": "markdown",
   "id": "22c41616",
   "metadata": {},
   "source": [
    "## 05. 간단하게 반복하는 한 줄 for 문"
   ]
  },
  {
   "cell_type": "markdown",
   "id": "2867ed79",
   "metadata": {},
   "source": [
    "### 리스트 컴프리헨션"
   ]
  },
  {
   "cell_type": "code",
   "execution_count": 46,
   "id": "32d30bba",
   "metadata": {
    "scrolled": true
   },
   "outputs": [
    {
     "name": "stdout",
     "output_type": "stream",
     "text": [
      "[1, 4, 9, 16, 25]\n"
     ]
    }
   ],
   "source": [
    "numbers = [1,2,3,4,5]\n",
    "square = []\n",
    "\n",
    "for i in numbers:\n",
    "    square.append(i**2)\n",
    "    \n",
    "print(square)"
   ]
  },
  {
   "cell_type": "code",
   "execution_count": 43,
   "id": "b65182bb",
   "metadata": {
    "scrolled": true
   },
   "outputs": [
    {
     "name": "stdout",
     "output_type": "stream",
     "text": [
      "[1, 4, 9, 16, 25]\n"
     ]
    }
   ],
   "source": [
    "numbers = [1,2,3,4,5]\n",
    "square = [i**2 for i in numbers]\n",
    "print(square)"
   ]
  },
  {
   "cell_type": "markdown",
   "id": "f487bbc5",
   "metadata": {},
   "source": [
    "### 조건문을 포함한 리스트 컴프리헨션"
   ]
  },
  {
   "cell_type": "code",
   "execution_count": 44,
   "id": "b014abc8",
   "metadata": {},
   "outputs": [
    {
     "name": "stdout",
     "output_type": "stream",
     "text": [
      "[9, 16, 25]\n"
     ]
    }
   ],
   "source": [
    "numbers = [1,2,3,4,5]\n",
    "square = []\n",
    "\n",
    "for i in numbers:\n",
    "    if i >= 3:\n",
    "        square.append(i**2)\n",
    "        \n",
    "print(square)"
   ]
  },
  {
   "cell_type": "code",
   "execution_count": 45,
   "id": "c45bfb9d",
   "metadata": {},
   "outputs": [
    {
     "name": "stdout",
     "output_type": "stream",
     "text": [
      "[9, 16, 25]\n"
     ]
    }
   ],
   "source": [
    "numbers = [1,2,3,4,5]\n",
    "square = [i**2 for i in numbers if i>=3]\n",
    "\n",
    "print(square)"
   ]
  },
  {
   "cell_type": "markdown",
   "id": "ac22c826",
   "metadata": {},
   "source": [
    "----------------"
   ]
  }
 ],
 "metadata": {
  "kernelspec": {
   "display_name": "Python 3",
   "language": "python",
   "name": "python3"
  },
  "language_info": {
   "codemirror_mode": {
    "name": "ipython",
    "version": 3
   },
   "file_extension": ".py",
   "mimetype": "text/x-python",
   "name": "python",
   "nbconvert_exporter": "python",
   "pygments_lexer": "ipython3",
   "version": "3.8.8"
  }
 },
 "nbformat": 4,
 "nbformat_minor": 5
}
